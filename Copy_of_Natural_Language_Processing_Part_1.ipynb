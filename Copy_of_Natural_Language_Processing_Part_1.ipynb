{
  "nbformat": 4,
  "nbformat_minor": 0,
  "metadata": {
    "colab": {
      "provenance": [],
      "include_colab_link": true
    },
    "kernelspec": {
      "name": "python3",
      "display_name": "Python 3"
    },
    "language_info": {
      "name": "python"
    }
  },
  "cells": [
    {
      "cell_type": "markdown",
      "metadata": {
        "id": "view-in-github",
        "colab_type": "text"
      },
      "source": [
        "<a href=\"https://colab.research.google.com/github/daniel-satria/h8_p2/blob/main/Copy_of_Natural_Language_Processing_Part_1.ipynb\" target=\"_parent\"><img src=\"https://colab.research.google.com/assets/colab-badge.svg\" alt=\"Open In Colab\"/></a>"
      ]
    },
    {
      "cell_type": "markdown",
      "source": [
        "# P2W2D2AM - Natural Language Processing - Part 1"
      ],
      "metadata": {
        "id": "rZgK-VETS4IH"
      }
    },
    {
      "cell_type": "markdown",
      "source": [
        "---\n",
        "## A. Understanding CountVectorizer"
      ],
      "metadata": {
        "id": "ZYs-NBWpS7XL"
      }
    },
    {
      "cell_type": "code",
      "execution_count": null,
      "metadata": {
        "id": "ARmI2kuHPo_f"
      },
      "outputs": [],
      "source": [
        "# Let's Define Simple Corpus\n",
        "\n",
        "corpus = [\n",
        "    'Saya sedang belajar data science',\n",
        "    'data yang saya proses adalah data teks',\n",
        "    'NLP adalah cabang besar didalam data science'\n",
        "]"
      ]
    },
    {
      "cell_type": "markdown",
      "source": [
        "`CountVectorizer()` is a module in Scikit Learn that use Bag of Words. Two methods that usually used are :\n",
        "* `.fit()` : used to collect vocabularies.\n",
        "* `.transform()` : used to convert token into numeric value.\n",
        "\n",
        "*See this [link](https://scikit-learn.org/stable/modules/generated/sklearn.feature_extraction.text.CountVectorizer.html) for more details.*"
      ],
      "metadata": {
        "id": "7_dcFZFpB8_s"
      }
    },
    {
      "cell_type": "code",
      "source": [
        "# Collect the Vocabularies using CountVectorizer()\n",
        "\n",
        "from sklearn.feature_extraction.text import CountVectorizer\n",
        "\n",
        "count_vect = CountVectorizer()\n",
        "count_vect.fit(corpus)"
      ],
      "metadata": {
        "colab": {
          "base_uri": "https://localhost:8080/"
        },
        "id": "TkP4gOgIP6gH",
        "outputId": "f2fa28c5-291e-4d2e-b36c-5971e404e055"
      },
      "execution_count": null,
      "outputs": [
        {
          "output_type": "execute_result",
          "data": {
            "text/plain": [
              "CountVectorizer()"
            ]
          },
          "metadata": {},
          "execution_count": 2
        }
      ]
    },
    {
      "cell_type": "code",
      "source": [
        "# See Vocabularies\n",
        "\n",
        "count_vect.get_feature_names_out()"
      ],
      "metadata": {
        "colab": {
          "base_uri": "https://localhost:8080/"
        },
        "id": "w6a3uE0sQLrG",
        "outputId": "abdd33c2-76d5-4d26-999f-cfebfcd67b19"
      },
      "execution_count": null,
      "outputs": [
        {
          "output_type": "execute_result",
          "data": {
            "text/plain": [
              "array(['adalah', 'belajar', 'besar', 'cabang', 'data', 'didalam', 'nlp',\n",
              "       'proses', 'saya', 'science', 'sedang', 'teks', 'yang'],\n",
              "      dtype=object)"
            ]
          },
          "metadata": {},
          "execution_count": 3
        }
      ]
    },
    {
      "cell_type": "code",
      "source": [
        "# Transform from Corpus into Numerical Vector\n",
        "\n",
        "corpus_count_vect = count_vect.transform(corpus)\n",
        "corpus_count_vect"
      ],
      "metadata": {
        "colab": {
          "base_uri": "https://localhost:8080/"
        },
        "id": "2zzyYchEQVDz",
        "outputId": "32d618dd-df69-471b-ba3e-da235b1cef14"
      },
      "execution_count": null,
      "outputs": [
        {
          "output_type": "execute_result",
          "data": {
            "text/plain": [
              "<3x13 sparse matrix of type '<class 'numpy.int64'>'\n",
              "\twith 18 stored elements in Compressed Sparse Row format>"
            ]
          },
          "metadata": {},
          "execution_count": 4
        }
      ]
    },
    {
      "cell_type": "markdown",
      "source": [
        "Notes :\n",
        "\n",
        "* As you can see, variable `corpus_vect` is stored as **sparse matrix**.\n",
        "* The sparse matrix is a matrix that contains non-zero values.\n",
        "* From the above output, we see that there are **`3 x 13` equal to 39 values but only 18 of them are not zeroes (only 46.15 %) with 13 vocabularies**.\n",
        "* This is just from simple corpus that contains 3 documents.\n",
        "* Imagine if you have a corpus with large documents. Consequently, you will  have massive non-zero values."
      ],
      "metadata": {
        "id": "8omkoZSDDSZa"
      }
    },
    {
      "cell_type": "code",
      "source": [
        "# Let's See Contents of Sparse Matrix\n",
        "\n",
        "print(corpus_count_vect)"
      ],
      "metadata": {
        "colab": {
          "base_uri": "https://localhost:8080/"
        },
        "id": "7Tv2oGwzGdZ3",
        "outputId": "f447776f-a8ac-4998-833b-52d881145bf9"
      },
      "execution_count": null,
      "outputs": [
        {
          "output_type": "stream",
          "name": "stdout",
          "text": [
            "  (0, 1)\t1\n",
            "  (0, 4)\t1\n",
            "  (0, 8)\t1\n",
            "  (0, 9)\t1\n",
            "  (0, 10)\t1\n",
            "  (1, 0)\t1\n",
            "  (1, 4)\t2\n",
            "  (1, 7)\t1\n",
            "  (1, 8)\t1\n",
            "  (1, 11)\t1\n",
            "  (1, 12)\t1\n",
            "  (2, 0)\t1\n",
            "  (2, 2)\t1\n",
            "  (2, 3)\t1\n",
            "  (2, 4)\t1\n",
            "  (2, 5)\t1\n",
            "  (2, 6)\t1\n",
            "  (2, 9)\t1\n"
          ]
        }
      ]
    },
    {
      "cell_type": "markdown",
      "source": [
        "As previously mentioned, a sparse matrix is a matrix that only save non-zero values. On the other hand, a dense matrix is a matrix that contains all values (both zero values and non-zero values). See the comparison below as illustration.\n",
        "\n",
        "<img src='https://static.javatpoint.com/ds/images/types-of-sparse-matrices.png'>"
      ],
      "metadata": {
        "id": "qGUV10RAHB2q"
      }
    },
    {
      "cell_type": "code",
      "source": [
        "# See `corpus_vect` as Dense Matrix\n",
        "\n",
        "corpus_count_vect.toarray()"
      ],
      "metadata": {
        "colab": {
          "base_uri": "https://localhost:8080/"
        },
        "id": "MtcHhPk0QiBJ",
        "outputId": "df3070e9-5dd6-4019-fed8-115e73bf3193"
      },
      "execution_count": null,
      "outputs": [
        {
          "output_type": "execute_result",
          "data": {
            "text/plain": [
              "array([[0, 1, 0, 0, 1, 0, 0, 0, 1, 1, 1, 0, 0],\n",
              "       [1, 0, 0, 0, 2, 0, 0, 1, 1, 0, 0, 1, 1],\n",
              "       [1, 0, 1, 1, 1, 1, 1, 0, 0, 1, 0, 0, 0]])"
            ]
          },
          "metadata": {},
          "execution_count": 6
        }
      ]
    },
    {
      "cell_type": "code",
      "source": [
        "# See `corpus_vect` with Their Token's Name\n",
        "\n",
        "import pandas as pd\n",
        "pd.DataFrame(corpus_count_vect.toarray(), columns = count_vect.get_feature_names_out())"
      ],
      "metadata": {
        "colab": {
          "base_uri": "https://localhost:8080/",
          "height": 143
        },
        "id": "_RpjkBGQQspb",
        "outputId": "094d7c81-ffd1-478b-8cd0-6543bc1a1114"
      },
      "execution_count": null,
      "outputs": [
        {
          "output_type": "execute_result",
          "data": {
            "text/plain": [
              "   adalah  belajar  besar  cabang  data  didalam  nlp  proses  saya  science  \\\n",
              "0       0        1      0       0     1        0    0       0     1        1   \n",
              "1       1        0      0       0     2        0    0       1     1        0   \n",
              "2       1        0      1       1     1        1    1       0     0        1   \n",
              "\n",
              "   sedang  teks  yang  \n",
              "0       1     0     0  \n",
              "1       0     1     1  \n",
              "2       0     0     0  "
            ],
            "text/html": [
              "\n",
              "  <div id=\"df-a3f2714f-b464-4891-be0c-ccede5956613\">\n",
              "    <div class=\"colab-df-container\">\n",
              "      <div>\n",
              "<style scoped>\n",
              "    .dataframe tbody tr th:only-of-type {\n",
              "        vertical-align: middle;\n",
              "    }\n",
              "\n",
              "    .dataframe tbody tr th {\n",
              "        vertical-align: top;\n",
              "    }\n",
              "\n",
              "    .dataframe thead th {\n",
              "        text-align: right;\n",
              "    }\n",
              "</style>\n",
              "<table border=\"1\" class=\"dataframe\">\n",
              "  <thead>\n",
              "    <tr style=\"text-align: right;\">\n",
              "      <th></th>\n",
              "      <th>adalah</th>\n",
              "      <th>belajar</th>\n",
              "      <th>besar</th>\n",
              "      <th>cabang</th>\n",
              "      <th>data</th>\n",
              "      <th>didalam</th>\n",
              "      <th>nlp</th>\n",
              "      <th>proses</th>\n",
              "      <th>saya</th>\n",
              "      <th>science</th>\n",
              "      <th>sedang</th>\n",
              "      <th>teks</th>\n",
              "      <th>yang</th>\n",
              "    </tr>\n",
              "  </thead>\n",
              "  <tbody>\n",
              "    <tr>\n",
              "      <th>0</th>\n",
              "      <td>0</td>\n",
              "      <td>1</td>\n",
              "      <td>0</td>\n",
              "      <td>0</td>\n",
              "      <td>1</td>\n",
              "      <td>0</td>\n",
              "      <td>0</td>\n",
              "      <td>0</td>\n",
              "      <td>1</td>\n",
              "      <td>1</td>\n",
              "      <td>1</td>\n",
              "      <td>0</td>\n",
              "      <td>0</td>\n",
              "    </tr>\n",
              "    <tr>\n",
              "      <th>1</th>\n",
              "      <td>1</td>\n",
              "      <td>0</td>\n",
              "      <td>0</td>\n",
              "      <td>0</td>\n",
              "      <td>2</td>\n",
              "      <td>0</td>\n",
              "      <td>0</td>\n",
              "      <td>1</td>\n",
              "      <td>1</td>\n",
              "      <td>0</td>\n",
              "      <td>0</td>\n",
              "      <td>1</td>\n",
              "      <td>1</td>\n",
              "    </tr>\n",
              "    <tr>\n",
              "      <th>2</th>\n",
              "      <td>1</td>\n",
              "      <td>0</td>\n",
              "      <td>1</td>\n",
              "      <td>1</td>\n",
              "      <td>1</td>\n",
              "      <td>1</td>\n",
              "      <td>1</td>\n",
              "      <td>0</td>\n",
              "      <td>0</td>\n",
              "      <td>1</td>\n",
              "      <td>0</td>\n",
              "      <td>0</td>\n",
              "      <td>0</td>\n",
              "    </tr>\n",
              "  </tbody>\n",
              "</table>\n",
              "</div>\n",
              "      <button class=\"colab-df-convert\" onclick=\"convertToInteractive('df-a3f2714f-b464-4891-be0c-ccede5956613')\"\n",
              "              title=\"Convert this dataframe to an interactive table.\"\n",
              "              style=\"display:none;\">\n",
              "        \n",
              "  <svg xmlns=\"http://www.w3.org/2000/svg\" height=\"24px\"viewBox=\"0 0 24 24\"\n",
              "       width=\"24px\">\n",
              "    <path d=\"M0 0h24v24H0V0z\" fill=\"none\"/>\n",
              "    <path d=\"M18.56 5.44l.94 2.06.94-2.06 2.06-.94-2.06-.94-.94-2.06-.94 2.06-2.06.94zm-11 1L8.5 8.5l.94-2.06 2.06-.94-2.06-.94L8.5 2.5l-.94 2.06-2.06.94zm10 10l.94 2.06.94-2.06 2.06-.94-2.06-.94-.94-2.06-.94 2.06-2.06.94z\"/><path d=\"M17.41 7.96l-1.37-1.37c-.4-.4-.92-.59-1.43-.59-.52 0-1.04.2-1.43.59L10.3 9.45l-7.72 7.72c-.78.78-.78 2.05 0 2.83L4 21.41c.39.39.9.59 1.41.59.51 0 1.02-.2 1.41-.59l7.78-7.78 2.81-2.81c.8-.78.8-2.07 0-2.86zM5.41 20L4 18.59l7.72-7.72 1.47 1.35L5.41 20z\"/>\n",
              "  </svg>\n",
              "      </button>\n",
              "      \n",
              "  <style>\n",
              "    .colab-df-container {\n",
              "      display:flex;\n",
              "      flex-wrap:wrap;\n",
              "      gap: 12px;\n",
              "    }\n",
              "\n",
              "    .colab-df-convert {\n",
              "      background-color: #E8F0FE;\n",
              "      border: none;\n",
              "      border-radius: 50%;\n",
              "      cursor: pointer;\n",
              "      display: none;\n",
              "      fill: #1967D2;\n",
              "      height: 32px;\n",
              "      padding: 0 0 0 0;\n",
              "      width: 32px;\n",
              "    }\n",
              "\n",
              "    .colab-df-convert:hover {\n",
              "      background-color: #E2EBFA;\n",
              "      box-shadow: 0px 1px 2px rgba(60, 64, 67, 0.3), 0px 1px 3px 1px rgba(60, 64, 67, 0.15);\n",
              "      fill: #174EA6;\n",
              "    }\n",
              "\n",
              "    [theme=dark] .colab-df-convert {\n",
              "      background-color: #3B4455;\n",
              "      fill: #D2E3FC;\n",
              "    }\n",
              "\n",
              "    [theme=dark] .colab-df-convert:hover {\n",
              "      background-color: #434B5C;\n",
              "      box-shadow: 0px 1px 3px 1px rgba(0, 0, 0, 0.15);\n",
              "      filter: drop-shadow(0px 1px 2px rgba(0, 0, 0, 0.3));\n",
              "      fill: #FFFFFF;\n",
              "    }\n",
              "  </style>\n",
              "\n",
              "      <script>\n",
              "        const buttonEl =\n",
              "          document.querySelector('#df-a3f2714f-b464-4891-be0c-ccede5956613 button.colab-df-convert');\n",
              "        buttonEl.style.display =\n",
              "          google.colab.kernel.accessAllowed ? 'block' : 'none';\n",
              "\n",
              "        async function convertToInteractive(key) {\n",
              "          const element = document.querySelector('#df-a3f2714f-b464-4891-be0c-ccede5956613');\n",
              "          const dataTable =\n",
              "            await google.colab.kernel.invokeFunction('convertToInteractive',\n",
              "                                                     [key], {});\n",
              "          if (!dataTable) return;\n",
              "\n",
              "          const docLinkHtml = 'Like what you see? Visit the ' +\n",
              "            '<a target=\"_blank\" href=https://colab.research.google.com/notebooks/data_table.ipynb>data table notebook</a>'\n",
              "            + ' to learn more about interactive tables.';\n",
              "          element.innerHTML = '';\n",
              "          dataTable['output_type'] = 'display_data';\n",
              "          await google.colab.output.renderOutput(dataTable, element);\n",
              "          const docLink = document.createElement('div');\n",
              "          docLink.innerHTML = docLinkHtml;\n",
              "          element.appendChild(docLink);\n",
              "        }\n",
              "      </script>\n",
              "    </div>\n",
              "  </div>\n",
              "  "
            ]
          },
          "metadata": {},
          "execution_count": 7
        }
      ]
    },
    {
      "cell_type": "markdown",
      "source": [
        "---\n",
        "## B. Understanding TF-IDF Vectorizer"
      ],
      "metadata": {
        "id": "lM2-wLfLJXA5"
      }
    },
    {
      "cell_type": "markdown",
      "source": [
        "`CountVectorizer()` and `TFidfVectorizer()` have some things in common such as :\n",
        "* Methods : `.fit()`, `.transform()`, `.get_feature_names()`, etc.\n",
        "* Save in a sparse matrix.\n",
        "\n",
        "You can say that `TFidfVectorizer()` is a normalize form of `CountVectorizer()`.\n",
        "\n",
        "*For more details, please visit this [link](https://scikit-learn.org/stable/modules/generated/sklearn.feature_extraction.text.TfidfVectorizer.html).*"
      ],
      "metadata": {
        "id": "_01LVAuOKszZ"
      }
    },
    {
      "cell_type": "code",
      "source": [
        "# Collect the Vocabularies using TfidfVectorizer()\n",
        "\n",
        "from sklearn.feature_extraction.text import TfidfVectorizer\n",
        "\n",
        "tf_idf_vect = TfidfVectorizer()\n",
        "tf_idf_vect.fit(corpus)"
      ],
      "metadata": {
        "colab": {
          "base_uri": "https://localhost:8080/"
        },
        "id": "2gc9ZGo7JSjO",
        "outputId": "9f9e2014-0c7d-41d7-88d8-62df9771bee0"
      },
      "execution_count": null,
      "outputs": [
        {
          "output_type": "execute_result",
          "data": {
            "text/plain": [
              "TfidfVectorizer()"
            ]
          },
          "metadata": {},
          "execution_count": 8
        }
      ]
    },
    {
      "cell_type": "code",
      "source": [
        "# See Vocabularies\n",
        "\n",
        "tf_idf_vect.get_feature_names_out()"
      ],
      "metadata": {
        "colab": {
          "base_uri": "https://localhost:8080/"
        },
        "id": "VU6-PGaQJ-aU",
        "outputId": "2eda0eea-8eb7-4407-d0ba-a172bd6cf73f"
      },
      "execution_count": null,
      "outputs": [
        {
          "output_type": "execute_result",
          "data": {
            "text/plain": [
              "array(['adalah', 'belajar', 'besar', 'cabang', 'data', 'didalam', 'nlp',\n",
              "       'proses', 'saya', 'science', 'sedang', 'teks', 'yang'],\n",
              "      dtype=object)"
            ]
          },
          "metadata": {},
          "execution_count": 9
        }
      ]
    },
    {
      "cell_type": "code",
      "source": [
        "# Transform from Corpus into Numerical Vector\n",
        "\n",
        "corpus_tf_idf_vect = tf_idf_vect.transform(corpus)\n",
        "corpus_tf_idf_vect"
      ],
      "metadata": {
        "colab": {
          "base_uri": "https://localhost:8080/"
        },
        "id": "ViumM664KB1n",
        "outputId": "ae8a97e4-49b2-40f6-e06e-c8f829579661"
      },
      "execution_count": null,
      "outputs": [
        {
          "output_type": "execute_result",
          "data": {
            "text/plain": [
              "<3x13 sparse matrix of type '<class 'numpy.float64'>'\n",
              "\twith 18 stored elements in Compressed Sparse Row format>"
            ]
          },
          "metadata": {},
          "execution_count": 10
        }
      ]
    },
    {
      "cell_type": "code",
      "source": [
        "# Let's See Contents of Sparse Matrix\n",
        "\n",
        "print(corpus_tf_idf_vect)"
      ],
      "metadata": {
        "colab": {
          "base_uri": "https://localhost:8080/"
        },
        "id": "sGtZ1YdnKEyy",
        "outputId": "ee789dd7-cc0e-4c8f-eb93-47035a521c39"
      },
      "execution_count": null,
      "outputs": [
        {
          "output_type": "stream",
          "name": "stdout",
          "text": [
            "  (0, 10)\t0.5340933749435833\n",
            "  (0, 9)\t0.4061917781433946\n",
            "  (0, 8)\t0.4061917781433946\n",
            "  (0, 4)\t0.3154441510317797\n",
            "  (0, 1)\t0.5340933749435833\n",
            "  (1, 12)\t0.42439575294071896\n",
            "  (1, 11)\t0.42439575294071896\n",
            "  (1, 8)\t0.32276390910429226\n",
            "  (1, 7)\t0.42439575294071896\n",
            "  (1, 4)\t0.5013099366829596\n",
            "  (1, 0)\t0.32276390910429226\n",
            "  (2, 9)\t0.3241235393856436\n",
            "  (2, 6)\t0.42618350336974425\n",
            "  (2, 5)\t0.42618350336974425\n",
            "  (2, 4)\t0.2517108425440014\n",
            "  (2, 3)\t0.42618350336974425\n",
            "  (2, 2)\t0.42618350336974425\n",
            "  (2, 0)\t0.3241235393856436\n"
          ]
        }
      ]
    },
    {
      "cell_type": "code",
      "source": [
        "# See `corpus_vect` as Dense Matrix\n",
        "\n",
        "corpus_tf_idf_vect.toarray()"
      ],
      "metadata": {
        "colab": {
          "base_uri": "https://localhost:8080/"
        },
        "id": "k_E7t-6CKG0G",
        "outputId": "f11c4340-1439-412e-8087-a7a5b219d90c"
      },
      "execution_count": null,
      "outputs": [
        {
          "output_type": "execute_result",
          "data": {
            "text/plain": [
              "array([[0.        , 0.53409337, 0.        , 0.        , 0.31544415,\n",
              "        0.        , 0.        , 0.        , 0.40619178, 0.40619178,\n",
              "        0.53409337, 0.        , 0.        ],\n",
              "       [0.32276391, 0.        , 0.        , 0.        , 0.50130994,\n",
              "        0.        , 0.        , 0.42439575, 0.32276391, 0.        ,\n",
              "        0.        , 0.42439575, 0.42439575],\n",
              "       [0.32412354, 0.        , 0.4261835 , 0.4261835 , 0.25171084,\n",
              "        0.4261835 , 0.4261835 , 0.        , 0.        , 0.32412354,\n",
              "        0.        , 0.        , 0.        ]])"
            ]
          },
          "metadata": {},
          "execution_count": 12
        }
      ]
    },
    {
      "cell_type": "code",
      "source": [
        "# See `corpus_vect` with Their Token's Name\n",
        "\n",
        "print('Dense Matrix - CountVectorizer()')\n",
        "pd.DataFrame(corpus_count_vect.toarray(), columns = count_vect.get_feature_names_out())"
      ],
      "metadata": {
        "colab": {
          "base_uri": "https://localhost:8080/",
          "height": 161
        },
        "id": "89lbpXtaKH6h",
        "outputId": "ecfbc278-7c6e-49a4-8494-0428d43a6121"
      },
      "execution_count": null,
      "outputs": [
        {
          "output_type": "stream",
          "name": "stdout",
          "text": [
            "Dense Matrix - CountVectorizer()\n"
          ]
        },
        {
          "output_type": "execute_result",
          "data": {
            "text/plain": [
              "   adalah  belajar  besar  cabang  data  didalam  nlp  proses  saya  science  \\\n",
              "0       0        1      0       0     1        0    0       0     1        1   \n",
              "1       1        0      0       0     2        0    0       1     1        0   \n",
              "2       1        0      1       1     1        1    1       0     0        1   \n",
              "\n",
              "   sedang  teks  yang  \n",
              "0       1     0     0  \n",
              "1       0     1     1  \n",
              "2       0     0     0  "
            ],
            "text/html": [
              "\n",
              "  <div id=\"df-b0f76c4d-d126-4e5c-823f-65429ba0442b\">\n",
              "    <div class=\"colab-df-container\">\n",
              "      <div>\n",
              "<style scoped>\n",
              "    .dataframe tbody tr th:only-of-type {\n",
              "        vertical-align: middle;\n",
              "    }\n",
              "\n",
              "    .dataframe tbody tr th {\n",
              "        vertical-align: top;\n",
              "    }\n",
              "\n",
              "    .dataframe thead th {\n",
              "        text-align: right;\n",
              "    }\n",
              "</style>\n",
              "<table border=\"1\" class=\"dataframe\">\n",
              "  <thead>\n",
              "    <tr style=\"text-align: right;\">\n",
              "      <th></th>\n",
              "      <th>adalah</th>\n",
              "      <th>belajar</th>\n",
              "      <th>besar</th>\n",
              "      <th>cabang</th>\n",
              "      <th>data</th>\n",
              "      <th>didalam</th>\n",
              "      <th>nlp</th>\n",
              "      <th>proses</th>\n",
              "      <th>saya</th>\n",
              "      <th>science</th>\n",
              "      <th>sedang</th>\n",
              "      <th>teks</th>\n",
              "      <th>yang</th>\n",
              "    </tr>\n",
              "  </thead>\n",
              "  <tbody>\n",
              "    <tr>\n",
              "      <th>0</th>\n",
              "      <td>0</td>\n",
              "      <td>1</td>\n",
              "      <td>0</td>\n",
              "      <td>0</td>\n",
              "      <td>1</td>\n",
              "      <td>0</td>\n",
              "      <td>0</td>\n",
              "      <td>0</td>\n",
              "      <td>1</td>\n",
              "      <td>1</td>\n",
              "      <td>1</td>\n",
              "      <td>0</td>\n",
              "      <td>0</td>\n",
              "    </tr>\n",
              "    <tr>\n",
              "      <th>1</th>\n",
              "      <td>1</td>\n",
              "      <td>0</td>\n",
              "      <td>0</td>\n",
              "      <td>0</td>\n",
              "      <td>2</td>\n",
              "      <td>0</td>\n",
              "      <td>0</td>\n",
              "      <td>1</td>\n",
              "      <td>1</td>\n",
              "      <td>0</td>\n",
              "      <td>0</td>\n",
              "      <td>1</td>\n",
              "      <td>1</td>\n",
              "    </tr>\n",
              "    <tr>\n",
              "      <th>2</th>\n",
              "      <td>1</td>\n",
              "      <td>0</td>\n",
              "      <td>1</td>\n",
              "      <td>1</td>\n",
              "      <td>1</td>\n",
              "      <td>1</td>\n",
              "      <td>1</td>\n",
              "      <td>0</td>\n",
              "      <td>0</td>\n",
              "      <td>1</td>\n",
              "      <td>0</td>\n",
              "      <td>0</td>\n",
              "      <td>0</td>\n",
              "    </tr>\n",
              "  </tbody>\n",
              "</table>\n",
              "</div>\n",
              "      <button class=\"colab-df-convert\" onclick=\"convertToInteractive('df-b0f76c4d-d126-4e5c-823f-65429ba0442b')\"\n",
              "              title=\"Convert this dataframe to an interactive table.\"\n",
              "              style=\"display:none;\">\n",
              "        \n",
              "  <svg xmlns=\"http://www.w3.org/2000/svg\" height=\"24px\"viewBox=\"0 0 24 24\"\n",
              "       width=\"24px\">\n",
              "    <path d=\"M0 0h24v24H0V0z\" fill=\"none\"/>\n",
              "    <path d=\"M18.56 5.44l.94 2.06.94-2.06 2.06-.94-2.06-.94-.94-2.06-.94 2.06-2.06.94zm-11 1L8.5 8.5l.94-2.06 2.06-.94-2.06-.94L8.5 2.5l-.94 2.06-2.06.94zm10 10l.94 2.06.94-2.06 2.06-.94-2.06-.94-.94-2.06-.94 2.06-2.06.94z\"/><path d=\"M17.41 7.96l-1.37-1.37c-.4-.4-.92-.59-1.43-.59-.52 0-1.04.2-1.43.59L10.3 9.45l-7.72 7.72c-.78.78-.78 2.05 0 2.83L4 21.41c.39.39.9.59 1.41.59.51 0 1.02-.2 1.41-.59l7.78-7.78 2.81-2.81c.8-.78.8-2.07 0-2.86zM5.41 20L4 18.59l7.72-7.72 1.47 1.35L5.41 20z\"/>\n",
              "  </svg>\n",
              "      </button>\n",
              "      \n",
              "  <style>\n",
              "    .colab-df-container {\n",
              "      display:flex;\n",
              "      flex-wrap:wrap;\n",
              "      gap: 12px;\n",
              "    }\n",
              "\n",
              "    .colab-df-convert {\n",
              "      background-color: #E8F0FE;\n",
              "      border: none;\n",
              "      border-radius: 50%;\n",
              "      cursor: pointer;\n",
              "      display: none;\n",
              "      fill: #1967D2;\n",
              "      height: 32px;\n",
              "      padding: 0 0 0 0;\n",
              "      width: 32px;\n",
              "    }\n",
              "\n",
              "    .colab-df-convert:hover {\n",
              "      background-color: #E2EBFA;\n",
              "      box-shadow: 0px 1px 2px rgba(60, 64, 67, 0.3), 0px 1px 3px 1px rgba(60, 64, 67, 0.15);\n",
              "      fill: #174EA6;\n",
              "    }\n",
              "\n",
              "    [theme=dark] .colab-df-convert {\n",
              "      background-color: #3B4455;\n",
              "      fill: #D2E3FC;\n",
              "    }\n",
              "\n",
              "    [theme=dark] .colab-df-convert:hover {\n",
              "      background-color: #434B5C;\n",
              "      box-shadow: 0px 1px 3px 1px rgba(0, 0, 0, 0.15);\n",
              "      filter: drop-shadow(0px 1px 2px rgba(0, 0, 0, 0.3));\n",
              "      fill: #FFFFFF;\n",
              "    }\n",
              "  </style>\n",
              "\n",
              "      <script>\n",
              "        const buttonEl =\n",
              "          document.querySelector('#df-b0f76c4d-d126-4e5c-823f-65429ba0442b button.colab-df-convert');\n",
              "        buttonEl.style.display =\n",
              "          google.colab.kernel.accessAllowed ? 'block' : 'none';\n",
              "\n",
              "        async function convertToInteractive(key) {\n",
              "          const element = document.querySelector('#df-b0f76c4d-d126-4e5c-823f-65429ba0442b');\n",
              "          const dataTable =\n",
              "            await google.colab.kernel.invokeFunction('convertToInteractive',\n",
              "                                                     [key], {});\n",
              "          if (!dataTable) return;\n",
              "\n",
              "          const docLinkHtml = 'Like what you see? Visit the ' +\n",
              "            '<a target=\"_blank\" href=https://colab.research.google.com/notebooks/data_table.ipynb>data table notebook</a>'\n",
              "            + ' to learn more about interactive tables.';\n",
              "          element.innerHTML = '';\n",
              "          dataTable['output_type'] = 'display_data';\n",
              "          await google.colab.output.renderOutput(dataTable, element);\n",
              "          const docLink = document.createElement('div');\n",
              "          docLink.innerHTML = docLinkHtml;\n",
              "          element.appendChild(docLink);\n",
              "        }\n",
              "      </script>\n",
              "    </div>\n",
              "  </div>\n",
              "  "
            ]
          },
          "metadata": {},
          "execution_count": 13
        }
      ]
    },
    {
      "cell_type": "code",
      "source": [
        "# See `corpus_tf_idf_vect` with Their Token's Name\n",
        "\n",
        "print('Dense Matrix - TfidfVectorizer()')\n",
        "pd.DataFrame(corpus_tf_idf_vect.toarray(), columns = tf_idf_vect.get_feature_names_out())"
      ],
      "metadata": {
        "colab": {
          "base_uri": "https://localhost:8080/",
          "height": 225
        },
        "id": "W-_fvE1AM1sq",
        "outputId": "0aeb7391-c0b9-405e-82f0-1d079a71aaea"
      },
      "execution_count": null,
      "outputs": [
        {
          "output_type": "stream",
          "name": "stdout",
          "text": [
            "Dense Matrix - TfidfVectorizer()\n"
          ]
        },
        {
          "output_type": "execute_result",
          "data": {
            "text/plain": [
              "     adalah   belajar     besar    cabang      data   didalam       nlp  \\\n",
              "0  0.000000  0.534093  0.000000  0.000000  0.315444  0.000000  0.000000   \n",
              "1  0.322764  0.000000  0.000000  0.000000  0.501310  0.000000  0.000000   \n",
              "2  0.324124  0.000000  0.426184  0.426184  0.251711  0.426184  0.426184   \n",
              "\n",
              "     proses      saya   science    sedang      teks      yang  \n",
              "0  0.000000  0.406192  0.406192  0.534093  0.000000  0.000000  \n",
              "1  0.424396  0.322764  0.000000  0.000000  0.424396  0.424396  \n",
              "2  0.000000  0.000000  0.324124  0.000000  0.000000  0.000000  "
            ],
            "text/html": [
              "\n",
              "  <div id=\"df-040b7cce-e0f6-4374-8546-7663db0f3749\">\n",
              "    <div class=\"colab-df-container\">\n",
              "      <div>\n",
              "<style scoped>\n",
              "    .dataframe tbody tr th:only-of-type {\n",
              "        vertical-align: middle;\n",
              "    }\n",
              "\n",
              "    .dataframe tbody tr th {\n",
              "        vertical-align: top;\n",
              "    }\n",
              "\n",
              "    .dataframe thead th {\n",
              "        text-align: right;\n",
              "    }\n",
              "</style>\n",
              "<table border=\"1\" class=\"dataframe\">\n",
              "  <thead>\n",
              "    <tr style=\"text-align: right;\">\n",
              "      <th></th>\n",
              "      <th>adalah</th>\n",
              "      <th>belajar</th>\n",
              "      <th>besar</th>\n",
              "      <th>cabang</th>\n",
              "      <th>data</th>\n",
              "      <th>didalam</th>\n",
              "      <th>nlp</th>\n",
              "      <th>proses</th>\n",
              "      <th>saya</th>\n",
              "      <th>science</th>\n",
              "      <th>sedang</th>\n",
              "      <th>teks</th>\n",
              "      <th>yang</th>\n",
              "    </tr>\n",
              "  </thead>\n",
              "  <tbody>\n",
              "    <tr>\n",
              "      <th>0</th>\n",
              "      <td>0.000000</td>\n",
              "      <td>0.534093</td>\n",
              "      <td>0.000000</td>\n",
              "      <td>0.000000</td>\n",
              "      <td>0.315444</td>\n",
              "      <td>0.000000</td>\n",
              "      <td>0.000000</td>\n",
              "      <td>0.000000</td>\n",
              "      <td>0.406192</td>\n",
              "      <td>0.406192</td>\n",
              "      <td>0.534093</td>\n",
              "      <td>0.000000</td>\n",
              "      <td>0.000000</td>\n",
              "    </tr>\n",
              "    <tr>\n",
              "      <th>1</th>\n",
              "      <td>0.322764</td>\n",
              "      <td>0.000000</td>\n",
              "      <td>0.000000</td>\n",
              "      <td>0.000000</td>\n",
              "      <td>0.501310</td>\n",
              "      <td>0.000000</td>\n",
              "      <td>0.000000</td>\n",
              "      <td>0.424396</td>\n",
              "      <td>0.322764</td>\n",
              "      <td>0.000000</td>\n",
              "      <td>0.000000</td>\n",
              "      <td>0.424396</td>\n",
              "      <td>0.424396</td>\n",
              "    </tr>\n",
              "    <tr>\n",
              "      <th>2</th>\n",
              "      <td>0.324124</td>\n",
              "      <td>0.000000</td>\n",
              "      <td>0.426184</td>\n",
              "      <td>0.426184</td>\n",
              "      <td>0.251711</td>\n",
              "      <td>0.426184</td>\n",
              "      <td>0.426184</td>\n",
              "      <td>0.000000</td>\n",
              "      <td>0.000000</td>\n",
              "      <td>0.324124</td>\n",
              "      <td>0.000000</td>\n",
              "      <td>0.000000</td>\n",
              "      <td>0.000000</td>\n",
              "    </tr>\n",
              "  </tbody>\n",
              "</table>\n",
              "</div>\n",
              "      <button class=\"colab-df-convert\" onclick=\"convertToInteractive('df-040b7cce-e0f6-4374-8546-7663db0f3749')\"\n",
              "              title=\"Convert this dataframe to an interactive table.\"\n",
              "              style=\"display:none;\">\n",
              "        \n",
              "  <svg xmlns=\"http://www.w3.org/2000/svg\" height=\"24px\"viewBox=\"0 0 24 24\"\n",
              "       width=\"24px\">\n",
              "    <path d=\"M0 0h24v24H0V0z\" fill=\"none\"/>\n",
              "    <path d=\"M18.56 5.44l.94 2.06.94-2.06 2.06-.94-2.06-.94-.94-2.06-.94 2.06-2.06.94zm-11 1L8.5 8.5l.94-2.06 2.06-.94-2.06-.94L8.5 2.5l-.94 2.06-2.06.94zm10 10l.94 2.06.94-2.06 2.06-.94-2.06-.94-.94-2.06-.94 2.06-2.06.94z\"/><path d=\"M17.41 7.96l-1.37-1.37c-.4-.4-.92-.59-1.43-.59-.52 0-1.04.2-1.43.59L10.3 9.45l-7.72 7.72c-.78.78-.78 2.05 0 2.83L4 21.41c.39.39.9.59 1.41.59.51 0 1.02-.2 1.41-.59l7.78-7.78 2.81-2.81c.8-.78.8-2.07 0-2.86zM5.41 20L4 18.59l7.72-7.72 1.47 1.35L5.41 20z\"/>\n",
              "  </svg>\n",
              "      </button>\n",
              "      \n",
              "  <style>\n",
              "    .colab-df-container {\n",
              "      display:flex;\n",
              "      flex-wrap:wrap;\n",
              "      gap: 12px;\n",
              "    }\n",
              "\n",
              "    .colab-df-convert {\n",
              "      background-color: #E8F0FE;\n",
              "      border: none;\n",
              "      border-radius: 50%;\n",
              "      cursor: pointer;\n",
              "      display: none;\n",
              "      fill: #1967D2;\n",
              "      height: 32px;\n",
              "      padding: 0 0 0 0;\n",
              "      width: 32px;\n",
              "    }\n",
              "\n",
              "    .colab-df-convert:hover {\n",
              "      background-color: #E2EBFA;\n",
              "      box-shadow: 0px 1px 2px rgba(60, 64, 67, 0.3), 0px 1px 3px 1px rgba(60, 64, 67, 0.15);\n",
              "      fill: #174EA6;\n",
              "    }\n",
              "\n",
              "    [theme=dark] .colab-df-convert {\n",
              "      background-color: #3B4455;\n",
              "      fill: #D2E3FC;\n",
              "    }\n",
              "\n",
              "    [theme=dark] .colab-df-convert:hover {\n",
              "      background-color: #434B5C;\n",
              "      box-shadow: 0px 1px 3px 1px rgba(0, 0, 0, 0.15);\n",
              "      filter: drop-shadow(0px 1px 2px rgba(0, 0, 0, 0.3));\n",
              "      fill: #FFFFFF;\n",
              "    }\n",
              "  </style>\n",
              "\n",
              "      <script>\n",
              "        const buttonEl =\n",
              "          document.querySelector('#df-040b7cce-e0f6-4374-8546-7663db0f3749 button.colab-df-convert');\n",
              "        buttonEl.style.display =\n",
              "          google.colab.kernel.accessAllowed ? 'block' : 'none';\n",
              "\n",
              "        async function convertToInteractive(key) {\n",
              "          const element = document.querySelector('#df-040b7cce-e0f6-4374-8546-7663db0f3749');\n",
              "          const dataTable =\n",
              "            await google.colab.kernel.invokeFunction('convertToInteractive',\n",
              "                                                     [key], {});\n",
              "          if (!dataTable) return;\n",
              "\n",
              "          const docLinkHtml = 'Like what you see? Visit the ' +\n",
              "            '<a target=\"_blank\" href=https://colab.research.google.com/notebooks/data_table.ipynb>data table notebook</a>'\n",
              "            + ' to learn more about interactive tables.';\n",
              "          element.innerHTML = '';\n",
              "          dataTable['output_type'] = 'display_data';\n",
              "          await google.colab.output.renderOutput(dataTable, element);\n",
              "          const docLink = document.createElement('div');\n",
              "          docLink.innerHTML = docLinkHtml;\n",
              "          element.appendChild(docLink);\n",
              "        }\n",
              "      </script>\n",
              "    </div>\n",
              "  </div>\n",
              "  "
            ]
          },
          "metadata": {},
          "execution_count": 14
        }
      ]
    },
    {
      "cell_type": "markdown",
      "source": [
        "## C. Case Study : YouTube Spam Comment"
      ],
      "metadata": {
        "id": "SP3whV1sSvAU"
      }
    },
    {
      "cell_type": "markdown",
      "source": [
        "For this case study, we will try to **detect a YouTube comment whether a spam comment or not**.\n",
        "\n",
        "*You can find the dataset in this [link](https://raw.githubusercontent.com/danupurnomo/hacktiv8-trial-class/main/dataset/dataset.csv).*"
      ],
      "metadata": {
        "id": "wDsZo2fEPtYy"
      }
    },
    {
      "cell_type": "markdown",
      "source": [
        "---\n",
        "### C.1. CountVectorizer"
      ],
      "metadata": {
        "id": "GX6fF0wSPMHu"
      }
    },
    {
      "cell_type": "code",
      "metadata": {
        "colab": {
          "base_uri": "https://localhost:8080/",
          "height": 337
        },
        "id": "vMfAS7iMd8h1",
        "outputId": "43cc20d1-54f0-4fa0-8725-c4d8e71d11e9"
      },
      "source": [
        "# Load Dataset\n",
        "\n",
        "import pandas as pd\n",
        "\n",
        "data = pd.read_csv('https://raw.githubusercontent.com/danupurnomo/hacktiv8-trial-class/main/dataset/dataset.csv')\n",
        "data.head(5)"
      ],
      "execution_count": null,
      "outputs": [
        {
          "output_type": "execute_result",
          "data": {
            "text/plain": [
              "                            COMMENT_ID         AUTHOR  \\\n",
              "0    z12rwfnyyrbsefonb232i5ehdxzkjzjs2    Lisa Wellas   \n",
              "1  z130wpnwwnyuetxcn23xf5k5ynmkdpjrj04   jason graham   \n",
              "2    z13vsfqirtavjvu0t22ezrgzyorwxhpf3     Ajkal Khan   \n",
              "3  z12wjzc4eprnvja4304cgbbizuved35wxcs  Dakota Taylor   \n",
              "4    z13xjfr42z3uxdz2223gx5rrzs3dt5hna    Jihad Naser   \n",
              "\n",
              "                         DATE  \\\n",
              "0                         NaN   \n",
              "1  2015-05-29T02:26:10.652000   \n",
              "2                         NaN   \n",
              "3  2015-05-29T02:13:07.810000   \n",
              "4                         NaN   \n",
              "\n",
              "                                             CONTENT  CLASS  \n",
              "0          +447935454150 lovely girl talk to me xxx﻿      1  \n",
              "1    I always end up coming back to this song<br />﻿      0  \n",
              "2  my sister just received over 6,500 new <a rel=...      1  \n",
              "3                                              Cool﻿      0  \n",
              "4                     Hello I&#39;am from Palastine﻿      1  "
            ],
            "text/html": [
              "\n",
              "  <div id=\"df-e53eb323-4f5f-45f2-827c-c4f08f1cae12\">\n",
              "    <div class=\"colab-df-container\">\n",
              "      <div>\n",
              "<style scoped>\n",
              "    .dataframe tbody tr th:only-of-type {\n",
              "        vertical-align: middle;\n",
              "    }\n",
              "\n",
              "    .dataframe tbody tr th {\n",
              "        vertical-align: top;\n",
              "    }\n",
              "\n",
              "    .dataframe thead th {\n",
              "        text-align: right;\n",
              "    }\n",
              "</style>\n",
              "<table border=\"1\" class=\"dataframe\">\n",
              "  <thead>\n",
              "    <tr style=\"text-align: right;\">\n",
              "      <th></th>\n",
              "      <th>COMMENT_ID</th>\n",
              "      <th>AUTHOR</th>\n",
              "      <th>DATE</th>\n",
              "      <th>CONTENT</th>\n",
              "      <th>CLASS</th>\n",
              "    </tr>\n",
              "  </thead>\n",
              "  <tbody>\n",
              "    <tr>\n",
              "      <th>0</th>\n",
              "      <td>z12rwfnyyrbsefonb232i5ehdxzkjzjs2</td>\n",
              "      <td>Lisa Wellas</td>\n",
              "      <td>NaN</td>\n",
              "      <td>+447935454150 lovely girl talk to me xxx﻿</td>\n",
              "      <td>1</td>\n",
              "    </tr>\n",
              "    <tr>\n",
              "      <th>1</th>\n",
              "      <td>z130wpnwwnyuetxcn23xf5k5ynmkdpjrj04</td>\n",
              "      <td>jason graham</td>\n",
              "      <td>2015-05-29T02:26:10.652000</td>\n",
              "      <td>I always end up coming back to this song&lt;br /&gt;﻿</td>\n",
              "      <td>0</td>\n",
              "    </tr>\n",
              "    <tr>\n",
              "      <th>2</th>\n",
              "      <td>z13vsfqirtavjvu0t22ezrgzyorwxhpf3</td>\n",
              "      <td>Ajkal Khan</td>\n",
              "      <td>NaN</td>\n",
              "      <td>my sister just received over 6,500 new &lt;a rel=...</td>\n",
              "      <td>1</td>\n",
              "    </tr>\n",
              "    <tr>\n",
              "      <th>3</th>\n",
              "      <td>z12wjzc4eprnvja4304cgbbizuved35wxcs</td>\n",
              "      <td>Dakota Taylor</td>\n",
              "      <td>2015-05-29T02:13:07.810000</td>\n",
              "      <td>Cool﻿</td>\n",
              "      <td>0</td>\n",
              "    </tr>\n",
              "    <tr>\n",
              "      <th>4</th>\n",
              "      <td>z13xjfr42z3uxdz2223gx5rrzs3dt5hna</td>\n",
              "      <td>Jihad Naser</td>\n",
              "      <td>NaN</td>\n",
              "      <td>Hello I&amp;#39;am from Palastine﻿</td>\n",
              "      <td>1</td>\n",
              "    </tr>\n",
              "  </tbody>\n",
              "</table>\n",
              "</div>\n",
              "      <button class=\"colab-df-convert\" onclick=\"convertToInteractive('df-e53eb323-4f5f-45f2-827c-c4f08f1cae12')\"\n",
              "              title=\"Convert this dataframe to an interactive table.\"\n",
              "              style=\"display:none;\">\n",
              "        \n",
              "  <svg xmlns=\"http://www.w3.org/2000/svg\" height=\"24px\"viewBox=\"0 0 24 24\"\n",
              "       width=\"24px\">\n",
              "    <path d=\"M0 0h24v24H0V0z\" fill=\"none\"/>\n",
              "    <path d=\"M18.56 5.44l.94 2.06.94-2.06 2.06-.94-2.06-.94-.94-2.06-.94 2.06-2.06.94zm-11 1L8.5 8.5l.94-2.06 2.06-.94-2.06-.94L8.5 2.5l-.94 2.06-2.06.94zm10 10l.94 2.06.94-2.06 2.06-.94-2.06-.94-.94-2.06-.94 2.06-2.06.94z\"/><path d=\"M17.41 7.96l-1.37-1.37c-.4-.4-.92-.59-1.43-.59-.52 0-1.04.2-1.43.59L10.3 9.45l-7.72 7.72c-.78.78-.78 2.05 0 2.83L4 21.41c.39.39.9.59 1.41.59.51 0 1.02-.2 1.41-.59l7.78-7.78 2.81-2.81c.8-.78.8-2.07 0-2.86zM5.41 20L4 18.59l7.72-7.72 1.47 1.35L5.41 20z\"/>\n",
              "  </svg>\n",
              "      </button>\n",
              "      \n",
              "  <style>\n",
              "    .colab-df-container {\n",
              "      display:flex;\n",
              "      flex-wrap:wrap;\n",
              "      gap: 12px;\n",
              "    }\n",
              "\n",
              "    .colab-df-convert {\n",
              "      background-color: #E8F0FE;\n",
              "      border: none;\n",
              "      border-radius: 50%;\n",
              "      cursor: pointer;\n",
              "      display: none;\n",
              "      fill: #1967D2;\n",
              "      height: 32px;\n",
              "      padding: 0 0 0 0;\n",
              "      width: 32px;\n",
              "    }\n",
              "\n",
              "    .colab-df-convert:hover {\n",
              "      background-color: #E2EBFA;\n",
              "      box-shadow: 0px 1px 2px rgba(60, 64, 67, 0.3), 0px 1px 3px 1px rgba(60, 64, 67, 0.15);\n",
              "      fill: #174EA6;\n",
              "    }\n",
              "\n",
              "    [theme=dark] .colab-df-convert {\n",
              "      background-color: #3B4455;\n",
              "      fill: #D2E3FC;\n",
              "    }\n",
              "\n",
              "    [theme=dark] .colab-df-convert:hover {\n",
              "      background-color: #434B5C;\n",
              "      box-shadow: 0px 1px 3px 1px rgba(0, 0, 0, 0.15);\n",
              "      filter: drop-shadow(0px 1px 2px rgba(0, 0, 0, 0.3));\n",
              "      fill: #FFFFFF;\n",
              "    }\n",
              "  </style>\n",
              "\n",
              "      <script>\n",
              "        const buttonEl =\n",
              "          document.querySelector('#df-e53eb323-4f5f-45f2-827c-c4f08f1cae12 button.colab-df-convert');\n",
              "        buttonEl.style.display =\n",
              "          google.colab.kernel.accessAllowed ? 'block' : 'none';\n",
              "\n",
              "        async function convertToInteractive(key) {\n",
              "          const element = document.querySelector('#df-e53eb323-4f5f-45f2-827c-c4f08f1cae12');\n",
              "          const dataTable =\n",
              "            await google.colab.kernel.invokeFunction('convertToInteractive',\n",
              "                                                     [key], {});\n",
              "          if (!dataTable) return;\n",
              "\n",
              "          const docLinkHtml = 'Like what you see? Visit the ' +\n",
              "            '<a target=\"_blank\" href=https://colab.research.google.com/notebooks/data_table.ipynb>data table notebook</a>'\n",
              "            + ' to learn more about interactive tables.';\n",
              "          element.innerHTML = '';\n",
              "          dataTable['output_type'] = 'display_data';\n",
              "          await google.colab.output.renderOutput(dataTable, element);\n",
              "          const docLink = document.createElement('div');\n",
              "          docLink.innerHTML = docLinkHtml;\n",
              "          element.appendChild(docLink);\n",
              "        }\n",
              "      </script>\n",
              "    </div>\n",
              "  </div>\n",
              "  "
            ]
          },
          "metadata": {},
          "execution_count": 15
        }
      ]
    },
    {
      "cell_type": "code",
      "metadata": {
        "colab": {
          "base_uri": "https://localhost:8080/"
        },
        "id": "C1siIXDReU2w",
        "outputId": "c83d5866-e96d-4768-b2a9-51fa3211513c"
      },
      "source": [
        "# Check Distribution of Dataset\n",
        "\n",
        "data.CLASS.value_counts()"
      ],
      "execution_count": null,
      "outputs": [
        {
          "output_type": "execute_result",
          "data": {
            "text/plain": [
              "1    245\n",
              "0    203\n",
              "Name: CLASS, dtype: int64"
            ]
          },
          "metadata": {},
          "execution_count": 16
        }
      ]
    },
    {
      "cell_type": "markdown",
      "source": [
        "For this task, we only need column `CONTENT` as corpus and column `CLASS` as target."
      ],
      "metadata": {
        "id": "_0Ir7URYQs_t"
      }
    },
    {
      "cell_type": "code",
      "metadata": {
        "id": "ue90UfwhfV8M",
        "colab": {
          "base_uri": "https://localhost:8080/"
        },
        "outputId": "94b663f1-bca9-4e01-ab9d-e8a98c4868ef"
      },
      "source": [
        "# Splitting Dataset\n",
        "\n",
        "from sklearn.model_selection import train_test_split\n",
        "\n",
        "X_train, X_test, y_train, y_test = train_test_split(data.CONTENT,\n",
        "                                                    data.CLASS,\n",
        "                                                    test_size=0.3,\n",
        "                                                    random_state=10)\n",
        "\n",
        "print('Train Size : ', len(X_train))\n",
        "print('Test Size  : ', len(X_test))"
      ],
      "execution_count": null,
      "outputs": [
        {
          "output_type": "stream",
          "name": "stdout",
          "text": [
            "Train Size :  313\n",
            "Test Size  :  135\n"
          ]
        }
      ]
    },
    {
      "cell_type": "code",
      "metadata": {
        "id": "zC6Nr9e4gv4o"
      },
      "source": [
        "# Convert String into Numerical\n",
        "\n",
        "from sklearn.feature_extraction.text import CountVectorizer\n",
        "count_vect = CountVectorizer()\n",
        "\n",
        "count_vect.fit(X_train)\n",
        "X_train_vect = count_vect.transform(X_train)\n",
        "X_test_vect = count_vect.transform(X_test)"
      ],
      "execution_count": null,
      "outputs": []
    },
    {
      "cell_type": "code",
      "source": [
        "# See X_train_vect\n",
        "\n",
        "X_train_vect"
      ],
      "metadata": {
        "colab": {
          "base_uri": "https://localhost:8080/"
        },
        "id": "G-UlccYeUC7w",
        "outputId": "17eb7663-d84a-49be-c760-ba2f2a786a71"
      },
      "execution_count": null,
      "outputs": [
        {
          "output_type": "execute_result",
          "data": {
            "text/plain": [
              "<313x1297 sparse matrix of type '<class 'numpy.int64'>'\n",
              "\twith 5083 stored elements in Compressed Sparse Row format>"
            ]
          },
          "metadata": {},
          "execution_count": 19
        }
      ]
    },
    {
      "cell_type": "markdown",
      "source": [
        "From this corpus, there are **405,961 values (from 313 * 1297)** but only **5,083 tokens that are non-zero values (1.25 %) with 1,297 vocabularies**."
      ],
      "metadata": {
        "id": "jQW60UfjRd18"
      }
    },
    {
      "cell_type": "code",
      "metadata": {
        "id": "WYkc_ntvjNyq",
        "colab": {
          "base_uri": "https://localhost:8080/"
        },
        "outputId": "496088ce-49c9-4506-c69e-3fb22a4fb94d"
      },
      "source": [
        "# Train the Model\n",
        "\n",
        "from sklearn.neighbors import KNeighborsClassifier\n",
        "\n",
        "model_knn_count_vect = KNeighborsClassifier(n_neighbors=5)\n",
        "model_knn_count_vect.fit(X_train_vect, y_train)"
      ],
      "execution_count": null,
      "outputs": [
        {
          "output_type": "execute_result",
          "data": {
            "text/plain": [
              "KNeighborsClassifier()"
            ]
          },
          "metadata": {},
          "execution_count": 20
        }
      ]
    },
    {
      "cell_type": "code",
      "metadata": {
        "colab": {
          "base_uri": "https://localhost:8080/"
        },
        "id": "llI0v1Lwkyjs",
        "outputId": "0ded33d9-656f-4643-bd41-8ae7fc5e524d"
      },
      "source": [
        "# Model Evaluation - Train Set\n",
        "\n",
        "from sklearn.metrics import classification_report\n",
        "\n",
        "y_pred_train = model_knn_count_vect.predict(X_train_vect)\n",
        "print(classification_report(y_train, y_pred_train))"
      ],
      "execution_count": null,
      "outputs": [
        {
          "output_type": "stream",
          "name": "stdout",
          "text": [
            "              precision    recall  f1-score   support\n",
            "\n",
            "           0       0.79      1.00      0.88       143\n",
            "           1       1.00      0.78      0.87       170\n",
            "\n",
            "    accuracy                           0.88       313\n",
            "   macro avg       0.90      0.89      0.88       313\n",
            "weighted avg       0.90      0.88      0.88       313\n",
            "\n"
          ]
        }
      ]
    },
    {
      "cell_type": "code",
      "source": [
        "# Model Evaluation - Test Set\n",
        "\n",
        "from sklearn.metrics import classification_report\n",
        "\n",
        "y_pred_test = model_knn_count_vect.predict(X_test_vect)\n",
        "print(classification_report(y_test, y_pred_test))"
      ],
      "metadata": {
        "colab": {
          "base_uri": "https://localhost:8080/"
        },
        "id": "G3i_8ch5Ubnp",
        "outputId": "ec096bef-b110-48c6-81fd-ff52b29760ef"
      },
      "execution_count": null,
      "outputs": [
        {
          "output_type": "stream",
          "name": "stdout",
          "text": [
            "              precision    recall  f1-score   support\n",
            "\n",
            "           0       0.70      1.00      0.82        60\n",
            "           1       1.00      0.65      0.79        75\n",
            "\n",
            "    accuracy                           0.81       135\n",
            "   macro avg       0.85      0.83      0.81       135\n",
            "weighted avg       0.87      0.81      0.80       135\n",
            "\n"
          ]
        }
      ]
    },
    {
      "cell_type": "code",
      "metadata": {
        "colab": {
          "base_uri": "https://localhost:8080/"
        },
        "id": "AzS6DIPbl3rn",
        "outputId": "7c623550-e5dc-43ca-a692-52c834659069"
      },
      "source": [
        "# Predict New Texts\n",
        "\n",
        "new_texts = ['i love this artist',\n",
        "             'please subscribe my channel at bla bla bla']\n",
        "\n",
        "new_texts_count_vect = count_vect.transform(new_texts)\n",
        "model_knn_count_vect.predict(new_texts_count_vect)"
      ],
      "execution_count": null,
      "outputs": [
        {
          "output_type": "execute_result",
          "data": {
            "text/plain": [
              "array([0, 1])"
            ]
          },
          "metadata": {},
          "execution_count": 23
        }
      ]
    },
    {
      "cell_type": "code",
      "source": [
        "# Save Classification Report into a Dictionary\n",
        "\n",
        "from sklearn.metrics import precision_score, recall_score, accuracy_score, f1_score\n",
        "\n",
        "all_reports = {}\n",
        "score_reports = {\n",
        "    'train - precision' : precision_score(y_train, y_pred_train),\n",
        "    'train - recall' : recall_score(y_train, y_pred_train),\n",
        "    'train - accuracy' : accuracy_score(y_train, y_pred_train),\n",
        "    'train - f1_score' : f1_score(y_train, y_pred_train),\n",
        "    'test - precision' : precision_score(y_test, y_pred_test),\n",
        "    'test - recall' : recall_score(y_test, y_pred_test),\n",
        "    'test - accuracy_score' : accuracy_score(y_test, y_pred_test),\n",
        "    'test - f1_score' : f1_score(y_test, y_pred_test),\n",
        "}\n",
        "all_reports['CountVectorizer'] = score_reports\n",
        "pd.DataFrame(all_reports)"
      ],
      "metadata": {
        "colab": {
          "base_uri": "https://localhost:8080/",
          "height": 300
        },
        "id": "S2ilD4ULO78T",
        "outputId": "54f408d0-27fb-47db-ce8a-363433ced210"
      },
      "execution_count": null,
      "outputs": [
        {
          "output_type": "execute_result",
          "data": {
            "text/plain": [
              "                       CountVectorizer\n",
              "test - accuracy_score         0.807407\n",
              "test - f1_score               0.790323\n",
              "test - precision              1.000000\n",
              "test - recall                 0.653333\n",
              "train - accuracy              0.878594\n",
              "train - f1_score              0.874172\n",
              "train - precision             1.000000\n",
              "train - recall                0.776471"
            ],
            "text/html": [
              "\n",
              "  <div id=\"df-c854a641-c491-4634-b2b0-fd87bb3823bb\">\n",
              "    <div class=\"colab-df-container\">\n",
              "      <div>\n",
              "<style scoped>\n",
              "    .dataframe tbody tr th:only-of-type {\n",
              "        vertical-align: middle;\n",
              "    }\n",
              "\n",
              "    .dataframe tbody tr th {\n",
              "        vertical-align: top;\n",
              "    }\n",
              "\n",
              "    .dataframe thead th {\n",
              "        text-align: right;\n",
              "    }\n",
              "</style>\n",
              "<table border=\"1\" class=\"dataframe\">\n",
              "  <thead>\n",
              "    <tr style=\"text-align: right;\">\n",
              "      <th></th>\n",
              "      <th>CountVectorizer</th>\n",
              "    </tr>\n",
              "  </thead>\n",
              "  <tbody>\n",
              "    <tr>\n",
              "      <th>test - accuracy_score</th>\n",
              "      <td>0.807407</td>\n",
              "    </tr>\n",
              "    <tr>\n",
              "      <th>test - f1_score</th>\n",
              "      <td>0.790323</td>\n",
              "    </tr>\n",
              "    <tr>\n",
              "      <th>test - precision</th>\n",
              "      <td>1.000000</td>\n",
              "    </tr>\n",
              "    <tr>\n",
              "      <th>test - recall</th>\n",
              "      <td>0.653333</td>\n",
              "    </tr>\n",
              "    <tr>\n",
              "      <th>train - accuracy</th>\n",
              "      <td>0.878594</td>\n",
              "    </tr>\n",
              "    <tr>\n",
              "      <th>train - f1_score</th>\n",
              "      <td>0.874172</td>\n",
              "    </tr>\n",
              "    <tr>\n",
              "      <th>train - precision</th>\n",
              "      <td>1.000000</td>\n",
              "    </tr>\n",
              "    <tr>\n",
              "      <th>train - recall</th>\n",
              "      <td>0.776471</td>\n",
              "    </tr>\n",
              "  </tbody>\n",
              "</table>\n",
              "</div>\n",
              "      <button class=\"colab-df-convert\" onclick=\"convertToInteractive('df-c854a641-c491-4634-b2b0-fd87bb3823bb')\"\n",
              "              title=\"Convert this dataframe to an interactive table.\"\n",
              "              style=\"display:none;\">\n",
              "        \n",
              "  <svg xmlns=\"http://www.w3.org/2000/svg\" height=\"24px\"viewBox=\"0 0 24 24\"\n",
              "       width=\"24px\">\n",
              "    <path d=\"M0 0h24v24H0V0z\" fill=\"none\"/>\n",
              "    <path d=\"M18.56 5.44l.94 2.06.94-2.06 2.06-.94-2.06-.94-.94-2.06-.94 2.06-2.06.94zm-11 1L8.5 8.5l.94-2.06 2.06-.94-2.06-.94L8.5 2.5l-.94 2.06-2.06.94zm10 10l.94 2.06.94-2.06 2.06-.94-2.06-.94-.94-2.06-.94 2.06-2.06.94z\"/><path d=\"M17.41 7.96l-1.37-1.37c-.4-.4-.92-.59-1.43-.59-.52 0-1.04.2-1.43.59L10.3 9.45l-7.72 7.72c-.78.78-.78 2.05 0 2.83L4 21.41c.39.39.9.59 1.41.59.51 0 1.02-.2 1.41-.59l7.78-7.78 2.81-2.81c.8-.78.8-2.07 0-2.86zM5.41 20L4 18.59l7.72-7.72 1.47 1.35L5.41 20z\"/>\n",
              "  </svg>\n",
              "      </button>\n",
              "      \n",
              "  <style>\n",
              "    .colab-df-container {\n",
              "      display:flex;\n",
              "      flex-wrap:wrap;\n",
              "      gap: 12px;\n",
              "    }\n",
              "\n",
              "    .colab-df-convert {\n",
              "      background-color: #E8F0FE;\n",
              "      border: none;\n",
              "      border-radius: 50%;\n",
              "      cursor: pointer;\n",
              "      display: none;\n",
              "      fill: #1967D2;\n",
              "      height: 32px;\n",
              "      padding: 0 0 0 0;\n",
              "      width: 32px;\n",
              "    }\n",
              "\n",
              "    .colab-df-convert:hover {\n",
              "      background-color: #E2EBFA;\n",
              "      box-shadow: 0px 1px 2px rgba(60, 64, 67, 0.3), 0px 1px 3px 1px rgba(60, 64, 67, 0.15);\n",
              "      fill: #174EA6;\n",
              "    }\n",
              "\n",
              "    [theme=dark] .colab-df-convert {\n",
              "      background-color: #3B4455;\n",
              "      fill: #D2E3FC;\n",
              "    }\n",
              "\n",
              "    [theme=dark] .colab-df-convert:hover {\n",
              "      background-color: #434B5C;\n",
              "      box-shadow: 0px 1px 3px 1px rgba(0, 0, 0, 0.15);\n",
              "      filter: drop-shadow(0px 1px 2px rgba(0, 0, 0, 0.3));\n",
              "      fill: #FFFFFF;\n",
              "    }\n",
              "  </style>\n",
              "\n",
              "      <script>\n",
              "        const buttonEl =\n",
              "          document.querySelector('#df-c854a641-c491-4634-b2b0-fd87bb3823bb button.colab-df-convert');\n",
              "        buttonEl.style.display =\n",
              "          google.colab.kernel.accessAllowed ? 'block' : 'none';\n",
              "\n",
              "        async function convertToInteractive(key) {\n",
              "          const element = document.querySelector('#df-c854a641-c491-4634-b2b0-fd87bb3823bb');\n",
              "          const dataTable =\n",
              "            await google.colab.kernel.invokeFunction('convertToInteractive',\n",
              "                                                     [key], {});\n",
              "          if (!dataTable) return;\n",
              "\n",
              "          const docLinkHtml = 'Like what you see? Visit the ' +\n",
              "            '<a target=\"_blank\" href=https://colab.research.google.com/notebooks/data_table.ipynb>data table notebook</a>'\n",
              "            + ' to learn more about interactive tables.';\n",
              "          element.innerHTML = '';\n",
              "          dataTable['output_type'] = 'display_data';\n",
              "          await google.colab.output.renderOutput(dataTable, element);\n",
              "          const docLink = document.createElement('div');\n",
              "          docLink.innerHTML = docLinkHtml;\n",
              "          element.appendChild(docLink);\n",
              "        }\n",
              "      </script>\n",
              "    </div>\n",
              "  </div>\n",
              "  "
            ]
          },
          "metadata": {},
          "execution_count": 24
        }
      ]
    },
    {
      "cell_type": "markdown",
      "source": [
        "---\n",
        "### C.2. TFidfVectorizer"
      ],
      "metadata": {
        "id": "9Z-5adb4TZvM"
      }
    },
    {
      "cell_type": "code",
      "metadata": {
        "id": "c7B_zG3HTZvN"
      },
      "source": [
        "# Convert String into Numerical\n",
        "\n",
        "from sklearn.feature_extraction.text import TfidfVectorizer\n",
        "tf_idf_vect = TfidfVectorizer()\n",
        "\n",
        "tf_idf_vect.fit(X_train)\n",
        "X_train_vect = tf_idf_vect.transform(X_train)\n",
        "X_test_vect = tf_idf_vect.transform(X_test)"
      ],
      "execution_count": null,
      "outputs": []
    },
    {
      "cell_type": "code",
      "source": [
        "# See X_train_vect\n",
        "\n",
        "X_train_vect"
      ],
      "metadata": {
        "colab": {
          "base_uri": "https://localhost:8080/"
        },
        "outputId": "03541217-5c60-43ce-84cc-5f3193f249cf",
        "id": "pOy5_6sRTZvN"
      },
      "execution_count": null,
      "outputs": [
        {
          "output_type": "execute_result",
          "data": {
            "text/plain": [
              "<313x1297 sparse matrix of type '<class 'numpy.float64'>'\n",
              "\twith 5083 stored elements in Compressed Sparse Row format>"
            ]
          },
          "metadata": {},
          "execution_count": 26
        }
      ]
    },
    {
      "cell_type": "code",
      "metadata": {
        "colab": {
          "base_uri": "https://localhost:8080/"
        },
        "outputId": "3ba3a2a2-8094-4f58-ffd0-3ef763921e1b",
        "id": "x0aOMZrWTZvN"
      },
      "source": [
        "# Train the Model\n",
        "\n",
        "from sklearn.neighbors import KNeighborsClassifier\n",
        "\n",
        "model_knn_tf_idf_vect = KNeighborsClassifier(n_neighbors=5)\n",
        "model_knn_tf_idf_vect.fit(X_train_vect, y_train)"
      ],
      "execution_count": null,
      "outputs": [
        {
          "output_type": "execute_result",
          "data": {
            "text/plain": [
              "KNeighborsClassifier()"
            ]
          },
          "metadata": {},
          "execution_count": 27
        }
      ]
    },
    {
      "cell_type": "code",
      "metadata": {
        "colab": {
          "base_uri": "https://localhost:8080/"
        },
        "outputId": "e2eb9c7c-90c7-459b-b7f5-04bfde31b76c",
        "id": "HcMgTuCRTZvN"
      },
      "source": [
        "# Model Evaluation - Train Set\n",
        "\n",
        "from sklearn.metrics import classification_report\n",
        "\n",
        "y_pred_train = model_knn_tf_idf_vect.predict(X_train_vect)\n",
        "print(classification_report(y_train, y_pred_train))"
      ],
      "execution_count": null,
      "outputs": [
        {
          "output_type": "stream",
          "name": "stdout",
          "text": [
            "              precision    recall  f1-score   support\n",
            "\n",
            "           0       0.54      1.00      0.70       143\n",
            "           1       1.00      0.29      0.45       170\n",
            "\n",
            "    accuracy                           0.61       313\n",
            "   macro avg       0.77      0.64      0.58       313\n",
            "weighted avg       0.79      0.61      0.56       313\n",
            "\n"
          ]
        }
      ]
    },
    {
      "cell_type": "code",
      "source": [
        "# Model Evaluation - Test Set\n",
        "\n",
        "from sklearn.metrics import classification_report\n",
        "\n",
        "y_pred_test = model_knn_tf_idf_vect.predict(X_test_vect)\n",
        "print(classification_report(y_test, y_pred_test))"
      ],
      "metadata": {
        "colab": {
          "base_uri": "https://localhost:8080/"
        },
        "outputId": "ef3512f8-c431-4f2d-e44b-c3a3cacdc684",
        "id": "jnNzdG1wTZvN"
      },
      "execution_count": null,
      "outputs": [
        {
          "output_type": "stream",
          "name": "stdout",
          "text": [
            "              precision    recall  f1-score   support\n",
            "\n",
            "           0       0.53      1.00      0.69        60\n",
            "           1       1.00      0.28      0.44        75\n",
            "\n",
            "    accuracy                           0.60       135\n",
            "   macro avg       0.76      0.64      0.56       135\n",
            "weighted avg       0.79      0.60      0.55       135\n",
            "\n"
          ]
        }
      ]
    },
    {
      "cell_type": "code",
      "metadata": {
        "colab": {
          "base_uri": "https://localhost:8080/"
        },
        "outputId": "4abd58fd-4d98-4527-ba45-698b036825a8",
        "id": "lxWcYfzbTZvO"
      },
      "source": [
        "# Predict New Texts\n",
        "\n",
        "new_texts = ['i love this artist',\n",
        "             'please subscribe my channel at bla bla bla']\n",
        "\n",
        "new_texts_count_vect = tf_idf_vect.transform(new_texts)\n",
        "model_knn_tf_idf_vect.predict(new_texts_count_vect)"
      ],
      "execution_count": null,
      "outputs": [
        {
          "output_type": "execute_result",
          "data": {
            "text/plain": [
              "array([0, 1])"
            ]
          },
          "metadata": {},
          "execution_count": 30
        }
      ]
    },
    {
      "cell_type": "code",
      "source": [
        "# Save Classification Report into a Dictionary\n",
        "\n",
        "score_reports = {\n",
        "    'train - precision' : precision_score(y_train, y_pred_train),\n",
        "    'train - recall' : recall_score(y_train, y_pred_train),\n",
        "    'train - accuracy' : accuracy_score(y_train, y_pred_train),\n",
        "    'train - f1_score' : f1_score(y_train, y_pred_train),\n",
        "    'test - precision' : precision_score(y_test, y_pred_test),\n",
        "    'test - recall' : recall_score(y_test, y_pred_test),\n",
        "    'test - accuracy_score' : accuracy_score(y_test, y_pred_test),\n",
        "    'test - f1_score' : f1_score(y_test, y_pred_test),\n",
        "}\n",
        "all_reports['TfidfVectorizer'] = score_reports\n",
        "pd.DataFrame(all_reports)"
      ],
      "metadata": {
        "colab": {
          "base_uri": "https://localhost:8080/",
          "height": 300
        },
        "id": "jxS4iyc9RwL0",
        "outputId": "ebd75b14-835f-4c21-87d5-3ce28d47cce0"
      },
      "execution_count": null,
      "outputs": [
        {
          "output_type": "execute_result",
          "data": {
            "text/plain": [
              "                       CountVectorizer  TfidfVectorizer\n",
              "train - precision             1.000000         1.000000\n",
              "train - recall                0.776471         0.288235\n",
              "train - accuracy              0.878594         0.613419\n",
              "train - f1_score              0.874172         0.447489\n",
              "test - precision              1.000000         1.000000\n",
              "test - recall                 0.653333         0.280000\n",
              "test - accuracy_score         0.807407         0.600000\n",
              "test - f1_score               0.790323         0.437500"
            ],
            "text/html": [
              "\n",
              "  <div id=\"df-7d9b4f01-04a0-4fc2-88e9-642721032661\">\n",
              "    <div class=\"colab-df-container\">\n",
              "      <div>\n",
              "<style scoped>\n",
              "    .dataframe tbody tr th:only-of-type {\n",
              "        vertical-align: middle;\n",
              "    }\n",
              "\n",
              "    .dataframe tbody tr th {\n",
              "        vertical-align: top;\n",
              "    }\n",
              "\n",
              "    .dataframe thead th {\n",
              "        text-align: right;\n",
              "    }\n",
              "</style>\n",
              "<table border=\"1\" class=\"dataframe\">\n",
              "  <thead>\n",
              "    <tr style=\"text-align: right;\">\n",
              "      <th></th>\n",
              "      <th>CountVectorizer</th>\n",
              "      <th>TfidfVectorizer</th>\n",
              "    </tr>\n",
              "  </thead>\n",
              "  <tbody>\n",
              "    <tr>\n",
              "      <th>train - precision</th>\n",
              "      <td>1.000000</td>\n",
              "      <td>1.000000</td>\n",
              "    </tr>\n",
              "    <tr>\n",
              "      <th>train - recall</th>\n",
              "      <td>0.776471</td>\n",
              "      <td>0.288235</td>\n",
              "    </tr>\n",
              "    <tr>\n",
              "      <th>train - accuracy</th>\n",
              "      <td>0.878594</td>\n",
              "      <td>0.613419</td>\n",
              "    </tr>\n",
              "    <tr>\n",
              "      <th>train - f1_score</th>\n",
              "      <td>0.874172</td>\n",
              "      <td>0.447489</td>\n",
              "    </tr>\n",
              "    <tr>\n",
              "      <th>test - precision</th>\n",
              "      <td>1.000000</td>\n",
              "      <td>1.000000</td>\n",
              "    </tr>\n",
              "    <tr>\n",
              "      <th>test - recall</th>\n",
              "      <td>0.653333</td>\n",
              "      <td>0.280000</td>\n",
              "    </tr>\n",
              "    <tr>\n",
              "      <th>test - accuracy_score</th>\n",
              "      <td>0.807407</td>\n",
              "      <td>0.600000</td>\n",
              "    </tr>\n",
              "    <tr>\n",
              "      <th>test - f1_score</th>\n",
              "      <td>0.790323</td>\n",
              "      <td>0.437500</td>\n",
              "    </tr>\n",
              "  </tbody>\n",
              "</table>\n",
              "</div>\n",
              "      <button class=\"colab-df-convert\" onclick=\"convertToInteractive('df-7d9b4f01-04a0-4fc2-88e9-642721032661')\"\n",
              "              title=\"Convert this dataframe to an interactive table.\"\n",
              "              style=\"display:none;\">\n",
              "        \n",
              "  <svg xmlns=\"http://www.w3.org/2000/svg\" height=\"24px\"viewBox=\"0 0 24 24\"\n",
              "       width=\"24px\">\n",
              "    <path d=\"M0 0h24v24H0V0z\" fill=\"none\"/>\n",
              "    <path d=\"M18.56 5.44l.94 2.06.94-2.06 2.06-.94-2.06-.94-.94-2.06-.94 2.06-2.06.94zm-11 1L8.5 8.5l.94-2.06 2.06-.94-2.06-.94L8.5 2.5l-.94 2.06-2.06.94zm10 10l.94 2.06.94-2.06 2.06-.94-2.06-.94-.94-2.06-.94 2.06-2.06.94z\"/><path d=\"M17.41 7.96l-1.37-1.37c-.4-.4-.92-.59-1.43-.59-.52 0-1.04.2-1.43.59L10.3 9.45l-7.72 7.72c-.78.78-.78 2.05 0 2.83L4 21.41c.39.39.9.59 1.41.59.51 0 1.02-.2 1.41-.59l7.78-7.78 2.81-2.81c.8-.78.8-2.07 0-2.86zM5.41 20L4 18.59l7.72-7.72 1.47 1.35L5.41 20z\"/>\n",
              "  </svg>\n",
              "      </button>\n",
              "      \n",
              "  <style>\n",
              "    .colab-df-container {\n",
              "      display:flex;\n",
              "      flex-wrap:wrap;\n",
              "      gap: 12px;\n",
              "    }\n",
              "\n",
              "    .colab-df-convert {\n",
              "      background-color: #E8F0FE;\n",
              "      border: none;\n",
              "      border-radius: 50%;\n",
              "      cursor: pointer;\n",
              "      display: none;\n",
              "      fill: #1967D2;\n",
              "      height: 32px;\n",
              "      padding: 0 0 0 0;\n",
              "      width: 32px;\n",
              "    }\n",
              "\n",
              "    .colab-df-convert:hover {\n",
              "      background-color: #E2EBFA;\n",
              "      box-shadow: 0px 1px 2px rgba(60, 64, 67, 0.3), 0px 1px 3px 1px rgba(60, 64, 67, 0.15);\n",
              "      fill: #174EA6;\n",
              "    }\n",
              "\n",
              "    [theme=dark] .colab-df-convert {\n",
              "      background-color: #3B4455;\n",
              "      fill: #D2E3FC;\n",
              "    }\n",
              "\n",
              "    [theme=dark] .colab-df-convert:hover {\n",
              "      background-color: #434B5C;\n",
              "      box-shadow: 0px 1px 3px 1px rgba(0, 0, 0, 0.15);\n",
              "      filter: drop-shadow(0px 1px 2px rgba(0, 0, 0, 0.3));\n",
              "      fill: #FFFFFF;\n",
              "    }\n",
              "  </style>\n",
              "\n",
              "      <script>\n",
              "        const buttonEl =\n",
              "          document.querySelector('#df-7d9b4f01-04a0-4fc2-88e9-642721032661 button.colab-df-convert');\n",
              "        buttonEl.style.display =\n",
              "          google.colab.kernel.accessAllowed ? 'block' : 'none';\n",
              "\n",
              "        async function convertToInteractive(key) {\n",
              "          const element = document.querySelector('#df-7d9b4f01-04a0-4fc2-88e9-642721032661');\n",
              "          const dataTable =\n",
              "            await google.colab.kernel.invokeFunction('convertToInteractive',\n",
              "                                                     [key], {});\n",
              "          if (!dataTable) return;\n",
              "\n",
              "          const docLinkHtml = 'Like what you see? Visit the ' +\n",
              "            '<a target=\"_blank\" href=https://colab.research.google.com/notebooks/data_table.ipynb>data table notebook</a>'\n",
              "            + ' to learn more about interactive tables.';\n",
              "          element.innerHTML = '';\n",
              "          dataTable['output_type'] = 'display_data';\n",
              "          await google.colab.output.renderOutput(dataTable, element);\n",
              "          const docLink = document.createElement('div');\n",
              "          docLink.innerHTML = docLinkHtml;\n",
              "          element.appendChild(docLink);\n",
              "        }\n",
              "      </script>\n",
              "    </div>\n",
              "  </div>\n",
              "  "
            ]
          },
          "metadata": {},
          "execution_count": 31
        }
      ]
    },
    {
      "cell_type": "markdown",
      "source": [
        "**Conclusion : the performance of TF-IDF model is worse than CountVectorizer model. Let's try to improve the perofmance of CountVectorizer model.**"
      ],
      "metadata": {
        "id": "5ZeUX30KTZvO"
      }
    },
    {
      "cell_type": "markdown",
      "source": [
        "---\n",
        "### C.3. CountVectorizer with Stopwords"
      ],
      "metadata": {
        "id": "Go7tMk2AXUQl"
      }
    },
    {
      "cell_type": "markdown",
      "source": [
        "<img src='https://kite4sky.files.wordpress.com/2019/09/c3.jpg'>\n",
        "\n",
        "As shown above, stopwords are words that appear frequently. This words\n",
        "In other word we can say that there are some words which have very high frequency which are generally known as language builder words (`is`, `the`, `then`, `that`, etc.). This words cannot tell you about what the document is, or in case someone have written a review about product, they can’t tell the context for that."
      ],
      "metadata": {
        "id": "qK3UTeBpIeVq"
      }
    },
    {
      "cell_type": "markdown",
      "source": [
        "For stopwords, you can use any public stopwords list such as :\n",
        "* [NLTK](https://www.nltk.org/nltk_data/) (search `Stopwords Corpus`)\n",
        "* [PySastrawi](https://github.com/har07/PySastrawi)"
      ],
      "metadata": {
        "id": "G6jgBYa8K_-O"
      }
    },
    {
      "cell_type": "code",
      "source": [
        "# Download Stopwords\n",
        "\n",
        "import nltk\n",
        "nltk.download('stopwords')"
      ],
      "metadata": {
        "colab": {
          "base_uri": "https://localhost:8080/"
        },
        "id": "qGSLEAodX6b1",
        "outputId": "a71c2c9d-166c-45c6-e2f8-49eff717a84a"
      },
      "execution_count": null,
      "outputs": [
        {
          "output_type": "stream",
          "name": "stderr",
          "text": [
            "[nltk_data] Downloading package stopwords to /root/nltk_data...\n",
            "[nltk_data]   Unzipping corpora/stopwords.zip.\n"
          ]
        },
        {
          "output_type": "execute_result",
          "data": {
            "text/plain": [
              "True"
            ]
          },
          "metadata": {},
          "execution_count": 32
        }
      ]
    },
    {
      "cell_type": "code",
      "source": [
        "# Define Stopwords\n",
        "\n",
        "## Load Stopwords from NLTK\n",
        "from nltk.corpus import stopwords\n",
        "stop_words_en = stopwords.words(\"english\")\n",
        "\n",
        "print('Stopwords from NLTK')\n",
        "print(len(stop_words_en), stop_words_en)\n",
        "print('')\n",
        "\n",
        "## Create A New Stopwords\n",
        "new_stop_words = ['aye', 'mine', 'have']\n",
        "\n",
        "## Merge Stopwords\n",
        "stop_words_en = stop_words_en + new_stop_words\n",
        "stop_words_en = list(set(stop_words_en))\n",
        "print('Out Final Stopwords')\n",
        "print(len(stop_words_en), stop_words_en)"
      ],
      "metadata": {
        "colab": {
          "base_uri": "https://localhost:8080/"
        },
        "id": "dsGcbsPDXc6u",
        "outputId": "f8e556ad-fcc7-4286-863c-9e9cf87d06ff"
      },
      "execution_count": null,
      "outputs": [
        {
          "output_type": "stream",
          "name": "stdout",
          "text": [
            "Stopwords from NLTK\n",
            "179 ['i', 'me', 'my', 'myself', 'we', 'our', 'ours', 'ourselves', 'you', \"you're\", \"you've\", \"you'll\", \"you'd\", 'your', 'yours', 'yourself', 'yourselves', 'he', 'him', 'his', 'himself', 'she', \"she's\", 'her', 'hers', 'herself', 'it', \"it's\", 'its', 'itself', 'they', 'them', 'their', 'theirs', 'themselves', 'what', 'which', 'who', 'whom', 'this', 'that', \"that'll\", 'these', 'those', 'am', 'is', 'are', 'was', 'were', 'be', 'been', 'being', 'have', 'has', 'had', 'having', 'do', 'does', 'did', 'doing', 'a', 'an', 'the', 'and', 'but', 'if', 'or', 'because', 'as', 'until', 'while', 'of', 'at', 'by', 'for', 'with', 'about', 'against', 'between', 'into', 'through', 'during', 'before', 'after', 'above', 'below', 'to', 'from', 'up', 'down', 'in', 'out', 'on', 'off', 'over', 'under', 'again', 'further', 'then', 'once', 'here', 'there', 'when', 'where', 'why', 'how', 'all', 'any', 'both', 'each', 'few', 'more', 'most', 'other', 'some', 'such', 'no', 'nor', 'not', 'only', 'own', 'same', 'so', 'than', 'too', 'very', 's', 't', 'can', 'will', 'just', 'don', \"don't\", 'should', \"should've\", 'now', 'd', 'll', 'm', 'o', 're', 've', 'y', 'ain', 'aren', \"aren't\", 'couldn', \"couldn't\", 'didn', \"didn't\", 'doesn', \"doesn't\", 'hadn', \"hadn't\", 'hasn', \"hasn't\", 'haven', \"haven't\", 'isn', \"isn't\", 'ma', 'mightn', \"mightn't\", 'mustn', \"mustn't\", 'needn', \"needn't\", 'shan', \"shan't\", 'shouldn', \"shouldn't\", 'wasn', \"wasn't\", 'weren', \"weren't\", 'won', \"won't\", 'wouldn', \"wouldn't\"]\n",
            "\n",
            "Out Final Stopwords\n",
            "181 ['been', 'once', 'very', 'under', 'does', 'herself', 'm', 'which', 't', \"isn't\", 'you', 'it', 'than', 'll', 'was', 'should', 'on', 'other', 'ma', 'where', 'they', 'more', 'at', 'don', 'ain', \"hasn't\", 'he', 'then', 'out', \"wasn't\", 'd', 'o', \"you've\", 're', 'doesn', 'your', 'with', 'if', \"shouldn't\", 'me', 'there', 'him', 'who', 'are', 'whom', 'yours', 'the', \"wouldn't\", \"hadn't\", 'through', 'to', 'can', 'own', 'shouldn', 'few', 'ourselves', \"won't\", 'their', 'no', 'further', \"that'll\", \"haven't\", \"needn't\", 'just', \"don't\", 'mustn', 'our', 'why', 'of', \"it's\", 'that', 'below', 'shan', 'but', \"aren't\", 'its', 'not', 'i', 'his', 'nor', 'won', 'an', 'yourselves', 'again', 'we', \"weren't\", \"mightn't\", 'am', 'mine', 'themselves', \"you'll\", 'has', 've', 'were', 'theirs', 'all', 'isn', 'each', \"didn't\", 'down', 'now', 'this', 'between', \"should've\", 'aye', 'mightn', 'because', 'too', \"shan't\", 'and', 'after', \"she's\", 'being', 'having', 'do', 'up', 'her', 'hadn', 'any', \"you'd\", \"you're\", 'wouldn', 'had', 'what', 'some', 'did', 'is', 'hers', 'have', 'them', 'be', 'yourself', 'my', 'needn', 'against', 'over', 'only', 'while', 'as', 'a', 'myself', 'itself', 'both', 'couldn', 'or', 'for', 'himself', 'until', 'from', 'in', 'off', 'here', 'y', 'weren', 'didn', 'into', 'during', 'these', 'when', 'before', \"doesn't\", \"mustn't\", 'such', 'wasn', 'aren', 'she', 'about', 'above', 'how', \"couldn't\", 'those', 'hasn', 'ours', 'most', 'by', 'doing', 'haven', 'so', 'same', 'will', 's']\n"
          ]
        }
      ]
    },
    {
      "cell_type": "code",
      "source": [
        "# Convert String into Numerical\n",
        "\n",
        "from sklearn.feature_extraction.text import CountVectorizer\n",
        "count_vect_sw = CountVectorizer(stop_words = stop_words_en)\n",
        "\n",
        "count_vect_sw.fit(X_train)\n",
        "X_train_count_vect_sw = count_vect_sw.transform(X_train)\n",
        "X_test_count_vect_sw = count_vect_sw.transform(X_test)"
      ],
      "metadata": {
        "id": "72hPH3nZXKy8"
      },
      "execution_count": null,
      "outputs": []
    },
    {
      "cell_type": "code",
      "source": [
        "# See train_kalimat\n",
        "\n",
        "X_train_count_vect_sw"
      ],
      "metadata": {
        "colab": {
          "base_uri": "https://localhost:8080/"
        },
        "id": "UcjhfAMgYOXn",
        "outputId": "5b037d75-f30d-4132-87e0-8cd80b6a5f94"
      },
      "execution_count": null,
      "outputs": [
        {
          "output_type": "execute_result",
          "data": {
            "text/plain": [
              "<313x1190 sparse matrix of type '<class 'numpy.int64'>'\n",
              "\twith 3306 stored elements in Compressed Sparse Row format>"
            ]
          },
          "metadata": {},
          "execution_count": 35
        }
      ]
    },
    {
      "cell_type": "markdown",
      "source": [
        "Differences between without stopwords and with stopwords in terms of vocabularies.\n",
        "* Without Stopwords (only CountVectorizer)\n",
        "  - Total values : 313*1297 = 405,961\n",
        "  - Total non-zero values : 5,083\n",
        "  - Percentage : 1.25 %\n",
        "  - Total vocabularies : 1,297\n",
        "* With Stopwords\n",
        "  - Total values : 313*1190 = 372,470\n",
        "  - Total non-zero values : 3,306\n",
        "  - Percentage : 0.89 %\n",
        "  - Total vocabularies : 1,190\n",
        "\n",
        "As shown above, with stopwords :\n",
        "* We reduce our non-zeros values from 5,083 to 3,306 (**34.96 %**) and\n",
        "* We also reduce the vocabularies from 1,297 to 1,190 (**8.25 %**)"
      ],
      "metadata": {
        "id": "kGqPEKe7Uxub"
      }
    },
    {
      "cell_type": "code",
      "source": [
        "# Train the Model\n",
        "\n",
        "from sklearn.neighbors import KNeighborsClassifier\n",
        "model_knn_count_vect_sw = KNeighborsClassifier(n_neighbors=5)\n",
        "\n",
        "model_knn_count_vect_sw.fit(X_train_count_vect_sw, y_train)"
      ],
      "metadata": {
        "colab": {
          "base_uri": "https://localhost:8080/"
        },
        "id": "Sjs8bqYTYRpK",
        "outputId": "5336e42a-1756-42cd-c9de-8da30a5eadc5"
      },
      "execution_count": null,
      "outputs": [
        {
          "output_type": "execute_result",
          "data": {
            "text/plain": [
              "KNeighborsClassifier()"
            ]
          },
          "metadata": {},
          "execution_count": 36
        }
      ]
    },
    {
      "cell_type": "code",
      "source": [
        "# Model Evaluation - Train Set\n",
        "\n",
        "from sklearn.metrics import classification_report\n",
        "\n",
        "y_pred_train = model_knn_count_vect_sw.predict(X_train_count_vect_sw)\n",
        "print(classification_report(y_train, y_pred_train))"
      ],
      "metadata": {
        "colab": {
          "base_uri": "https://localhost:8080/"
        },
        "id": "NntpobyoYUQh",
        "outputId": "2b2f77f3-1524-495d-8bbd-9fdc63ba3e18"
      },
      "execution_count": null,
      "outputs": [
        {
          "output_type": "stream",
          "name": "stdout",
          "text": [
            "              precision    recall  f1-score   support\n",
            "\n",
            "           0       0.78      1.00      0.88       143\n",
            "           1       1.00      0.76      0.87       170\n",
            "\n",
            "    accuracy                           0.87       313\n",
            "   macro avg       0.89      0.88      0.87       313\n",
            "weighted avg       0.90      0.87      0.87       313\n",
            "\n"
          ]
        }
      ]
    },
    {
      "cell_type": "code",
      "source": [
        "# Model Evaluation - Test Set\n",
        "\n",
        "from sklearn.metrics import classification_report\n",
        "\n",
        "y_pred_test = model_knn_count_vect_sw.predict(X_test_count_vect_sw)\n",
        "print(classification_report(y_test, y_pred_test))"
      ],
      "metadata": {
        "colab": {
          "base_uri": "https://localhost:8080/"
        },
        "id": "gdsd3QeUYbh6",
        "outputId": "eab04b8e-ed87-44fd-d623-41f26ddc62fd"
      },
      "execution_count": null,
      "outputs": [
        {
          "output_type": "stream",
          "name": "stdout",
          "text": [
            "              precision    recall  f1-score   support\n",
            "\n",
            "           0       0.70      1.00      0.82        60\n",
            "           1       1.00      0.65      0.79        75\n",
            "\n",
            "    accuracy                           0.81       135\n",
            "   macro avg       0.85      0.83      0.81       135\n",
            "weighted avg       0.87      0.81      0.80       135\n",
            "\n"
          ]
        }
      ]
    },
    {
      "cell_type": "code",
      "source": [
        "# Predict New Texts\n",
        "\n",
        "new_texts = ['i love this artist',\n",
        "             'please subscribe my channel at bla bla bla']\n",
        "\n",
        "new_texts_count_vect_sw = count_vect_sw.transform(new_texts)\n",
        "model_knn_count_vect_sw.predict(new_texts_count_vect_sw)"
      ],
      "metadata": {
        "colab": {
          "base_uri": "https://localhost:8080/"
        },
        "id": "d7xtURdvY9hM",
        "outputId": "8868932e-c272-42b0-b899-4bf7fb8aa2f6"
      },
      "execution_count": null,
      "outputs": [
        {
          "output_type": "execute_result",
          "data": {
            "text/plain": [
              "array([0, 1])"
            ]
          },
          "metadata": {},
          "execution_count": 39
        }
      ]
    },
    {
      "cell_type": "code",
      "source": [
        "# Save Classification Report into a Dictionary\n",
        "\n",
        "score_reports = {\n",
        "    'train - precision' : precision_score(y_train, y_pred_train),\n",
        "    'train - recall' : recall_score(y_train, y_pred_train),\n",
        "    'train - accuracy' : accuracy_score(y_train, y_pred_train),\n",
        "    'train - f1_score' : f1_score(y_train, y_pred_train),\n",
        "    'test - precision' : precision_score(y_test, y_pred_test),\n",
        "    'test - recall' : recall_score(y_test, y_pred_test),\n",
        "    'test - accuracy_score' : accuracy_score(y_test, y_pred_test),\n",
        "    'test - f1_score' : f1_score(y_test, y_pred_test),\n",
        "}\n",
        "all_reports['CountVectorizer + Stopwords'] = score_reports\n",
        "pd.DataFrame(all_reports)"
      ],
      "metadata": {
        "colab": {
          "base_uri": "https://localhost:8080/",
          "height": 300
        },
        "id": "dP9YdxOdZCCH",
        "outputId": "dab209f0-d7bd-48c2-bc47-47a2294e0c99"
      },
      "execution_count": null,
      "outputs": [
        {
          "output_type": "execute_result",
          "data": {
            "text/plain": [
              "                       CountVectorizer  TfidfVectorizer  \\\n",
              "train - precision             1.000000         1.000000   \n",
              "train - recall                0.776471         0.288235   \n",
              "train - accuracy              0.878594         0.613419   \n",
              "train - f1_score              0.874172         0.447489   \n",
              "test - precision              1.000000         1.000000   \n",
              "test - recall                 0.653333         0.280000   \n",
              "test - accuracy_score         0.807407         0.600000   \n",
              "test - f1_score               0.790323         0.437500   \n",
              "\n",
              "                       CountVectorizer + Stopwords  \n",
              "train - precision                         1.000000  \n",
              "train - recall                            0.764706  \n",
              "train - accuracy                          0.872204  \n",
              "train - f1_score                          0.866667  \n",
              "test - precision                          1.000000  \n",
              "test - recall                             0.653333  \n",
              "test - accuracy_score                     0.807407  \n",
              "test - f1_score                           0.790323  "
            ],
            "text/html": [
              "\n",
              "  <div id=\"df-c16eff4d-2a17-449c-9bed-c14ba0495c48\">\n",
              "    <div class=\"colab-df-container\">\n",
              "      <div>\n",
              "<style scoped>\n",
              "    .dataframe tbody tr th:only-of-type {\n",
              "        vertical-align: middle;\n",
              "    }\n",
              "\n",
              "    .dataframe tbody tr th {\n",
              "        vertical-align: top;\n",
              "    }\n",
              "\n",
              "    .dataframe thead th {\n",
              "        text-align: right;\n",
              "    }\n",
              "</style>\n",
              "<table border=\"1\" class=\"dataframe\">\n",
              "  <thead>\n",
              "    <tr style=\"text-align: right;\">\n",
              "      <th></th>\n",
              "      <th>CountVectorizer</th>\n",
              "      <th>TfidfVectorizer</th>\n",
              "      <th>CountVectorizer + Stopwords</th>\n",
              "    </tr>\n",
              "  </thead>\n",
              "  <tbody>\n",
              "    <tr>\n",
              "      <th>train - precision</th>\n",
              "      <td>1.000000</td>\n",
              "      <td>1.000000</td>\n",
              "      <td>1.000000</td>\n",
              "    </tr>\n",
              "    <tr>\n",
              "      <th>train - recall</th>\n",
              "      <td>0.776471</td>\n",
              "      <td>0.288235</td>\n",
              "      <td>0.764706</td>\n",
              "    </tr>\n",
              "    <tr>\n",
              "      <th>train - accuracy</th>\n",
              "      <td>0.878594</td>\n",
              "      <td>0.613419</td>\n",
              "      <td>0.872204</td>\n",
              "    </tr>\n",
              "    <tr>\n",
              "      <th>train - f1_score</th>\n",
              "      <td>0.874172</td>\n",
              "      <td>0.447489</td>\n",
              "      <td>0.866667</td>\n",
              "    </tr>\n",
              "    <tr>\n",
              "      <th>test - precision</th>\n",
              "      <td>1.000000</td>\n",
              "      <td>1.000000</td>\n",
              "      <td>1.000000</td>\n",
              "    </tr>\n",
              "    <tr>\n",
              "      <th>test - recall</th>\n",
              "      <td>0.653333</td>\n",
              "      <td>0.280000</td>\n",
              "      <td>0.653333</td>\n",
              "    </tr>\n",
              "    <tr>\n",
              "      <th>test - accuracy_score</th>\n",
              "      <td>0.807407</td>\n",
              "      <td>0.600000</td>\n",
              "      <td>0.807407</td>\n",
              "    </tr>\n",
              "    <tr>\n",
              "      <th>test - f1_score</th>\n",
              "      <td>0.790323</td>\n",
              "      <td>0.437500</td>\n",
              "      <td>0.790323</td>\n",
              "    </tr>\n",
              "  </tbody>\n",
              "</table>\n",
              "</div>\n",
              "      <button class=\"colab-df-convert\" onclick=\"convertToInteractive('df-c16eff4d-2a17-449c-9bed-c14ba0495c48')\"\n",
              "              title=\"Convert this dataframe to an interactive table.\"\n",
              "              style=\"display:none;\">\n",
              "        \n",
              "  <svg xmlns=\"http://www.w3.org/2000/svg\" height=\"24px\"viewBox=\"0 0 24 24\"\n",
              "       width=\"24px\">\n",
              "    <path d=\"M0 0h24v24H0V0z\" fill=\"none\"/>\n",
              "    <path d=\"M18.56 5.44l.94 2.06.94-2.06 2.06-.94-2.06-.94-.94-2.06-.94 2.06-2.06.94zm-11 1L8.5 8.5l.94-2.06 2.06-.94-2.06-.94L8.5 2.5l-.94 2.06-2.06.94zm10 10l.94 2.06.94-2.06 2.06-.94-2.06-.94-.94-2.06-.94 2.06-2.06.94z\"/><path d=\"M17.41 7.96l-1.37-1.37c-.4-.4-.92-.59-1.43-.59-.52 0-1.04.2-1.43.59L10.3 9.45l-7.72 7.72c-.78.78-.78 2.05 0 2.83L4 21.41c.39.39.9.59 1.41.59.51 0 1.02-.2 1.41-.59l7.78-7.78 2.81-2.81c.8-.78.8-2.07 0-2.86zM5.41 20L4 18.59l7.72-7.72 1.47 1.35L5.41 20z\"/>\n",
              "  </svg>\n",
              "      </button>\n",
              "      \n",
              "  <style>\n",
              "    .colab-df-container {\n",
              "      display:flex;\n",
              "      flex-wrap:wrap;\n",
              "      gap: 12px;\n",
              "    }\n",
              "\n",
              "    .colab-df-convert {\n",
              "      background-color: #E8F0FE;\n",
              "      border: none;\n",
              "      border-radius: 50%;\n",
              "      cursor: pointer;\n",
              "      display: none;\n",
              "      fill: #1967D2;\n",
              "      height: 32px;\n",
              "      padding: 0 0 0 0;\n",
              "      width: 32px;\n",
              "    }\n",
              "\n",
              "    .colab-df-convert:hover {\n",
              "      background-color: #E2EBFA;\n",
              "      box-shadow: 0px 1px 2px rgba(60, 64, 67, 0.3), 0px 1px 3px 1px rgba(60, 64, 67, 0.15);\n",
              "      fill: #174EA6;\n",
              "    }\n",
              "\n",
              "    [theme=dark] .colab-df-convert {\n",
              "      background-color: #3B4455;\n",
              "      fill: #D2E3FC;\n",
              "    }\n",
              "\n",
              "    [theme=dark] .colab-df-convert:hover {\n",
              "      background-color: #434B5C;\n",
              "      box-shadow: 0px 1px 3px 1px rgba(0, 0, 0, 0.15);\n",
              "      filter: drop-shadow(0px 1px 2px rgba(0, 0, 0, 0.3));\n",
              "      fill: #FFFFFF;\n",
              "    }\n",
              "  </style>\n",
              "\n",
              "      <script>\n",
              "        const buttonEl =\n",
              "          document.querySelector('#df-c16eff4d-2a17-449c-9bed-c14ba0495c48 button.colab-df-convert');\n",
              "        buttonEl.style.display =\n",
              "          google.colab.kernel.accessAllowed ? 'block' : 'none';\n",
              "\n",
              "        async function convertToInteractive(key) {\n",
              "          const element = document.querySelector('#df-c16eff4d-2a17-449c-9bed-c14ba0495c48');\n",
              "          const dataTable =\n",
              "            await google.colab.kernel.invokeFunction('convertToInteractive',\n",
              "                                                     [key], {});\n",
              "          if (!dataTable) return;\n",
              "\n",
              "          const docLinkHtml = 'Like what you see? Visit the ' +\n",
              "            '<a target=\"_blank\" href=https://colab.research.google.com/notebooks/data_table.ipynb>data table notebook</a>'\n",
              "            + ' to learn more about interactive tables.';\n",
              "          element.innerHTML = '';\n",
              "          dataTable['output_type'] = 'display_data';\n",
              "          await google.colab.output.renderOutput(dataTable, element);\n",
              "          const docLink = document.createElement('div');\n",
              "          docLink.innerHTML = docLinkHtml;\n",
              "          element.appendChild(docLink);\n",
              "        }\n",
              "      </script>\n",
              "    </div>\n",
              "  </div>\n",
              "  "
            ]
          },
          "metadata": {},
          "execution_count": 40
        }
      ]
    },
    {
      "cell_type": "markdown",
      "source": [
        "---\n",
        "### C.4. CountVectorizer with Stopwords and Stemming"
      ],
      "metadata": {
        "id": "o46PsH_WZyyr"
      }
    },
    {
      "cell_type": "markdown",
      "source": [
        "There are many stemming algorithms in NLTK such as Porter, Lancaster, etc. You can trial-and-error the stemming algorithms that fit your problem.\n",
        "\n",
        "*For more details, please visit this [link](https://www.nltk.org/api/nltk.stem.html). To see how to use, please visit this [link](https://www.nltk.org/howto/stem.html).*"
      ],
      "metadata": {
        "id": "jGzg0FIoZyys"
      }
    },
    {
      "cell_type": "code",
      "source": [
        "# Load Dataset\n",
        "\n",
        "import pandas as pd\n",
        "\n",
        "data = pd.read_csv('https://raw.githubusercontent.com/danupurnomo/hacktiv8-trial-class/main/dataset/dataset.csv')\n",
        "data.head(5)"
      ],
      "metadata": {
        "colab": {
          "base_uri": "https://localhost:8080/",
          "height": 337
        },
        "id": "th9xjyw84u43",
        "outputId": "1e4c564c-5650-47d6-deee-75970373d9ef"
      },
      "execution_count": null,
      "outputs": [
        {
          "output_type": "execute_result",
          "data": {
            "text/plain": [
              "                            COMMENT_ID         AUTHOR  \\\n",
              "0    z12rwfnyyrbsefonb232i5ehdxzkjzjs2    Lisa Wellas   \n",
              "1  z130wpnwwnyuetxcn23xf5k5ynmkdpjrj04   jason graham   \n",
              "2    z13vsfqirtavjvu0t22ezrgzyorwxhpf3     Ajkal Khan   \n",
              "3  z12wjzc4eprnvja4304cgbbizuved35wxcs  Dakota Taylor   \n",
              "4    z13xjfr42z3uxdz2223gx5rrzs3dt5hna    Jihad Naser   \n",
              "\n",
              "                         DATE  \\\n",
              "0                         NaN   \n",
              "1  2015-05-29T02:26:10.652000   \n",
              "2                         NaN   \n",
              "3  2015-05-29T02:13:07.810000   \n",
              "4                         NaN   \n",
              "\n",
              "                                             CONTENT  CLASS  \n",
              "0          +447935454150 lovely girl talk to me xxx﻿      1  \n",
              "1    I always end up coming back to this song<br />﻿      0  \n",
              "2  my sister just received over 6,500 new <a rel=...      1  \n",
              "3                                              Cool﻿      0  \n",
              "4                     Hello I&#39;am from Palastine﻿      1  "
            ],
            "text/html": [
              "\n",
              "  <div id=\"df-3ef66197-eb3e-4b78-9c88-f13e3092f58e\">\n",
              "    <div class=\"colab-df-container\">\n",
              "      <div>\n",
              "<style scoped>\n",
              "    .dataframe tbody tr th:only-of-type {\n",
              "        vertical-align: middle;\n",
              "    }\n",
              "\n",
              "    .dataframe tbody tr th {\n",
              "        vertical-align: top;\n",
              "    }\n",
              "\n",
              "    .dataframe thead th {\n",
              "        text-align: right;\n",
              "    }\n",
              "</style>\n",
              "<table border=\"1\" class=\"dataframe\">\n",
              "  <thead>\n",
              "    <tr style=\"text-align: right;\">\n",
              "      <th></th>\n",
              "      <th>COMMENT_ID</th>\n",
              "      <th>AUTHOR</th>\n",
              "      <th>DATE</th>\n",
              "      <th>CONTENT</th>\n",
              "      <th>CLASS</th>\n",
              "    </tr>\n",
              "  </thead>\n",
              "  <tbody>\n",
              "    <tr>\n",
              "      <th>0</th>\n",
              "      <td>z12rwfnyyrbsefonb232i5ehdxzkjzjs2</td>\n",
              "      <td>Lisa Wellas</td>\n",
              "      <td>NaN</td>\n",
              "      <td>+447935454150 lovely girl talk to me xxx﻿</td>\n",
              "      <td>1</td>\n",
              "    </tr>\n",
              "    <tr>\n",
              "      <th>1</th>\n",
              "      <td>z130wpnwwnyuetxcn23xf5k5ynmkdpjrj04</td>\n",
              "      <td>jason graham</td>\n",
              "      <td>2015-05-29T02:26:10.652000</td>\n",
              "      <td>I always end up coming back to this song&lt;br /&gt;﻿</td>\n",
              "      <td>0</td>\n",
              "    </tr>\n",
              "    <tr>\n",
              "      <th>2</th>\n",
              "      <td>z13vsfqirtavjvu0t22ezrgzyorwxhpf3</td>\n",
              "      <td>Ajkal Khan</td>\n",
              "      <td>NaN</td>\n",
              "      <td>my sister just received over 6,500 new &lt;a rel=...</td>\n",
              "      <td>1</td>\n",
              "    </tr>\n",
              "    <tr>\n",
              "      <th>3</th>\n",
              "      <td>z12wjzc4eprnvja4304cgbbizuved35wxcs</td>\n",
              "      <td>Dakota Taylor</td>\n",
              "      <td>2015-05-29T02:13:07.810000</td>\n",
              "      <td>Cool﻿</td>\n",
              "      <td>0</td>\n",
              "    </tr>\n",
              "    <tr>\n",
              "      <th>4</th>\n",
              "      <td>z13xjfr42z3uxdz2223gx5rrzs3dt5hna</td>\n",
              "      <td>Jihad Naser</td>\n",
              "      <td>NaN</td>\n",
              "      <td>Hello I&amp;#39;am from Palastine﻿</td>\n",
              "      <td>1</td>\n",
              "    </tr>\n",
              "  </tbody>\n",
              "</table>\n",
              "</div>\n",
              "      <button class=\"colab-df-convert\" onclick=\"convertToInteractive('df-3ef66197-eb3e-4b78-9c88-f13e3092f58e')\"\n",
              "              title=\"Convert this dataframe to an interactive table.\"\n",
              "              style=\"display:none;\">\n",
              "        \n",
              "  <svg xmlns=\"http://www.w3.org/2000/svg\" height=\"24px\"viewBox=\"0 0 24 24\"\n",
              "       width=\"24px\">\n",
              "    <path d=\"M0 0h24v24H0V0z\" fill=\"none\"/>\n",
              "    <path d=\"M18.56 5.44l.94 2.06.94-2.06 2.06-.94-2.06-.94-.94-2.06-.94 2.06-2.06.94zm-11 1L8.5 8.5l.94-2.06 2.06-.94-2.06-.94L8.5 2.5l-.94 2.06-2.06.94zm10 10l.94 2.06.94-2.06 2.06-.94-2.06-.94-.94-2.06-.94 2.06-2.06.94z\"/><path d=\"M17.41 7.96l-1.37-1.37c-.4-.4-.92-.59-1.43-.59-.52 0-1.04.2-1.43.59L10.3 9.45l-7.72 7.72c-.78.78-.78 2.05 0 2.83L4 21.41c.39.39.9.59 1.41.59.51 0 1.02-.2 1.41-.59l7.78-7.78 2.81-2.81c.8-.78.8-2.07 0-2.86zM5.41 20L4 18.59l7.72-7.72 1.47 1.35L5.41 20z\"/>\n",
              "  </svg>\n",
              "      </button>\n",
              "      \n",
              "  <style>\n",
              "    .colab-df-container {\n",
              "      display:flex;\n",
              "      flex-wrap:wrap;\n",
              "      gap: 12px;\n",
              "    }\n",
              "\n",
              "    .colab-df-convert {\n",
              "      background-color: #E8F0FE;\n",
              "      border: none;\n",
              "      border-radius: 50%;\n",
              "      cursor: pointer;\n",
              "      display: none;\n",
              "      fill: #1967D2;\n",
              "      height: 32px;\n",
              "      padding: 0 0 0 0;\n",
              "      width: 32px;\n",
              "    }\n",
              "\n",
              "    .colab-df-convert:hover {\n",
              "      background-color: #E2EBFA;\n",
              "      box-shadow: 0px 1px 2px rgba(60, 64, 67, 0.3), 0px 1px 3px 1px rgba(60, 64, 67, 0.15);\n",
              "      fill: #174EA6;\n",
              "    }\n",
              "\n",
              "    [theme=dark] .colab-df-convert {\n",
              "      background-color: #3B4455;\n",
              "      fill: #D2E3FC;\n",
              "    }\n",
              "\n",
              "    [theme=dark] .colab-df-convert:hover {\n",
              "      background-color: #434B5C;\n",
              "      box-shadow: 0px 1px 3px 1px rgba(0, 0, 0, 0.15);\n",
              "      filter: drop-shadow(0px 1px 2px rgba(0, 0, 0, 0.3));\n",
              "      fill: #FFFFFF;\n",
              "    }\n",
              "  </style>\n",
              "\n",
              "      <script>\n",
              "        const buttonEl =\n",
              "          document.querySelector('#df-3ef66197-eb3e-4b78-9c88-f13e3092f58e button.colab-df-convert');\n",
              "        buttonEl.style.display =\n",
              "          google.colab.kernel.accessAllowed ? 'block' : 'none';\n",
              "\n",
              "        async function convertToInteractive(key) {\n",
              "          const element = document.querySelector('#df-3ef66197-eb3e-4b78-9c88-f13e3092f58e');\n",
              "          const dataTable =\n",
              "            await google.colab.kernel.invokeFunction('convertToInteractive',\n",
              "                                                     [key], {});\n",
              "          if (!dataTable) return;\n",
              "\n",
              "          const docLinkHtml = 'Like what you see? Visit the ' +\n",
              "            '<a target=\"_blank\" href=https://colab.research.google.com/notebooks/data_table.ipynb>data table notebook</a>'\n",
              "            + ' to learn more about interactive tables.';\n",
              "          element.innerHTML = '';\n",
              "          dataTable['output_type'] = 'display_data';\n",
              "          await google.colab.output.renderOutput(dataTable, element);\n",
              "          const docLink = document.createElement('div');\n",
              "          docLink.innerHTML = docLinkHtml;\n",
              "          element.appendChild(docLink);\n",
              "        }\n",
              "      </script>\n",
              "    </div>\n",
              "  </div>\n",
              "  "
            ]
          },
          "metadata": {},
          "execution_count": 41
        }
      ]
    },
    {
      "cell_type": "code",
      "source": [
        "# Stem The Corpus\n",
        "\n",
        "from nltk.stem import PorterStemmer\n",
        "\n",
        "stemmer = PorterStemmer()\n",
        "stemmed_content = []\n",
        "\n",
        "for doc in data.CONTENT:\n",
        "  result = [stemmer.stem(word) for word in doc.split()]\n",
        "  result = ' '.join(result)\n",
        "  stemmed_content.append(result)\n",
        "\n",
        "data['STEMMED_CONTENT'] = stemmed_content\n",
        "data[['CONTENT', 'STEMMED_CONTENT']]"
      ],
      "metadata": {
        "colab": {
          "base_uri": "https://localhost:8080/",
          "height": 424
        },
        "id": "iCNd9NXOZPVI",
        "outputId": "de816cf1-12ae-4d64-a6c1-fbdfd4ca003b"
      },
      "execution_count": null,
      "outputs": [
        {
          "output_type": "execute_result",
          "data": {
            "text/plain": [
              "                                               CONTENT  \\\n",
              "0            +447935454150 lovely girl talk to me xxx﻿   \n",
              "1      I always end up coming back to this song<br />﻿   \n",
              "2    my sister just received over 6,500 new <a rel=...   \n",
              "3                                                Cool﻿   \n",
              "4                       Hello I&#39;am from Palastine﻿   \n",
              "..                                                 ...   \n",
              "443           SUBSCRIBE TO MY CHANNEL X PLEASE!. SPARE   \n",
              "444  Check out my videos guy! :) Hope you guys had ...   \n",
              "445  3 yrs ago I had a health scare but thankfully ...   \n",
              "446       Rihanna looks so beautiful with red hair ;)﻿   \n",
              "447  857.482.940 views AWESOME !!!!!!!!!!!!!!!!!!!!...   \n",
              "\n",
              "                                       STEMMED_CONTENT  \n",
              "0              +447935454150 love girl talk to me xxx﻿  \n",
              "1          i alway end up come back to thi song<br />﻿  \n",
              "2    my sister just receiv over 6,500 new <a rel=\"n...  \n",
              "3                                                cool﻿  \n",
              "4                       hello i&#39;am from palastine﻿  \n",
              "..                                                 ...  \n",
              "443            subscrib to my channel x please!. spare  \n",
              "444  check out my video guy! :) hope you guy had a ...  \n",
              "445  3 yr ago i had a health scare but thank i’m ok...  \n",
              "446           rihanna look so beauti with red hair ;)﻿  \n",
              "447  857.482.940 view awesom !!!!!!!!!!!!!!!!!!!!!!...  \n",
              "\n",
              "[448 rows x 2 columns]"
            ],
            "text/html": [
              "\n",
              "  <div id=\"df-994dcec3-3b32-429f-a63f-ceb01ed4966a\">\n",
              "    <div class=\"colab-df-container\">\n",
              "      <div>\n",
              "<style scoped>\n",
              "    .dataframe tbody tr th:only-of-type {\n",
              "        vertical-align: middle;\n",
              "    }\n",
              "\n",
              "    .dataframe tbody tr th {\n",
              "        vertical-align: top;\n",
              "    }\n",
              "\n",
              "    .dataframe thead th {\n",
              "        text-align: right;\n",
              "    }\n",
              "</style>\n",
              "<table border=\"1\" class=\"dataframe\">\n",
              "  <thead>\n",
              "    <tr style=\"text-align: right;\">\n",
              "      <th></th>\n",
              "      <th>CONTENT</th>\n",
              "      <th>STEMMED_CONTENT</th>\n",
              "    </tr>\n",
              "  </thead>\n",
              "  <tbody>\n",
              "    <tr>\n",
              "      <th>0</th>\n",
              "      <td>+447935454150 lovely girl talk to me xxx﻿</td>\n",
              "      <td>+447935454150 love girl talk to me xxx﻿</td>\n",
              "    </tr>\n",
              "    <tr>\n",
              "      <th>1</th>\n",
              "      <td>I always end up coming back to this song&lt;br /&gt;﻿</td>\n",
              "      <td>i alway end up come back to thi song&lt;br /&gt;﻿</td>\n",
              "    </tr>\n",
              "    <tr>\n",
              "      <th>2</th>\n",
              "      <td>my sister just received over 6,500 new &lt;a rel=...</td>\n",
              "      <td>my sister just receiv over 6,500 new &lt;a rel=\"n...</td>\n",
              "    </tr>\n",
              "    <tr>\n",
              "      <th>3</th>\n",
              "      <td>Cool﻿</td>\n",
              "      <td>cool﻿</td>\n",
              "    </tr>\n",
              "    <tr>\n",
              "      <th>4</th>\n",
              "      <td>Hello I&amp;#39;am from Palastine﻿</td>\n",
              "      <td>hello i&amp;#39;am from palastine﻿</td>\n",
              "    </tr>\n",
              "    <tr>\n",
              "      <th>...</th>\n",
              "      <td>...</td>\n",
              "      <td>...</td>\n",
              "    </tr>\n",
              "    <tr>\n",
              "      <th>443</th>\n",
              "      <td>SUBSCRIBE TO MY CHANNEL X PLEASE!. SPARE</td>\n",
              "      <td>subscrib to my channel x please!. spare</td>\n",
              "    </tr>\n",
              "    <tr>\n",
              "      <th>444</th>\n",
              "      <td>Check out my videos guy! :) Hope you guys had ...</td>\n",
              "      <td>check out my video guy! :) hope you guy had a ...</td>\n",
              "    </tr>\n",
              "    <tr>\n",
              "      <th>445</th>\n",
              "      <td>3 yrs ago I had a health scare but thankfully ...</td>\n",
              "      <td>3 yr ago i had a health scare but thank i’m ok...</td>\n",
              "    </tr>\n",
              "    <tr>\n",
              "      <th>446</th>\n",
              "      <td>Rihanna looks so beautiful with red hair ;)﻿</td>\n",
              "      <td>rihanna look so beauti with red hair ;)﻿</td>\n",
              "    </tr>\n",
              "    <tr>\n",
              "      <th>447</th>\n",
              "      <td>857.482.940 views AWESOME !!!!!!!!!!!!!!!!!!!!...</td>\n",
              "      <td>857.482.940 view awesom !!!!!!!!!!!!!!!!!!!!!!...</td>\n",
              "    </tr>\n",
              "  </tbody>\n",
              "</table>\n",
              "<p>448 rows × 2 columns</p>\n",
              "</div>\n",
              "      <button class=\"colab-df-convert\" onclick=\"convertToInteractive('df-994dcec3-3b32-429f-a63f-ceb01ed4966a')\"\n",
              "              title=\"Convert this dataframe to an interactive table.\"\n",
              "              style=\"display:none;\">\n",
              "        \n",
              "  <svg xmlns=\"http://www.w3.org/2000/svg\" height=\"24px\"viewBox=\"0 0 24 24\"\n",
              "       width=\"24px\">\n",
              "    <path d=\"M0 0h24v24H0V0z\" fill=\"none\"/>\n",
              "    <path d=\"M18.56 5.44l.94 2.06.94-2.06 2.06-.94-2.06-.94-.94-2.06-.94 2.06-2.06.94zm-11 1L8.5 8.5l.94-2.06 2.06-.94-2.06-.94L8.5 2.5l-.94 2.06-2.06.94zm10 10l.94 2.06.94-2.06 2.06-.94-2.06-.94-.94-2.06-.94 2.06-2.06.94z\"/><path d=\"M17.41 7.96l-1.37-1.37c-.4-.4-.92-.59-1.43-.59-.52 0-1.04.2-1.43.59L10.3 9.45l-7.72 7.72c-.78.78-.78 2.05 0 2.83L4 21.41c.39.39.9.59 1.41.59.51 0 1.02-.2 1.41-.59l7.78-7.78 2.81-2.81c.8-.78.8-2.07 0-2.86zM5.41 20L4 18.59l7.72-7.72 1.47 1.35L5.41 20z\"/>\n",
              "  </svg>\n",
              "      </button>\n",
              "      \n",
              "  <style>\n",
              "    .colab-df-container {\n",
              "      display:flex;\n",
              "      flex-wrap:wrap;\n",
              "      gap: 12px;\n",
              "    }\n",
              "\n",
              "    .colab-df-convert {\n",
              "      background-color: #E8F0FE;\n",
              "      border: none;\n",
              "      border-radius: 50%;\n",
              "      cursor: pointer;\n",
              "      display: none;\n",
              "      fill: #1967D2;\n",
              "      height: 32px;\n",
              "      padding: 0 0 0 0;\n",
              "      width: 32px;\n",
              "    }\n",
              "\n",
              "    .colab-df-convert:hover {\n",
              "      background-color: #E2EBFA;\n",
              "      box-shadow: 0px 1px 2px rgba(60, 64, 67, 0.3), 0px 1px 3px 1px rgba(60, 64, 67, 0.15);\n",
              "      fill: #174EA6;\n",
              "    }\n",
              "\n",
              "    [theme=dark] .colab-df-convert {\n",
              "      background-color: #3B4455;\n",
              "      fill: #D2E3FC;\n",
              "    }\n",
              "\n",
              "    [theme=dark] .colab-df-convert:hover {\n",
              "      background-color: #434B5C;\n",
              "      box-shadow: 0px 1px 3px 1px rgba(0, 0, 0, 0.15);\n",
              "      filter: drop-shadow(0px 1px 2px rgba(0, 0, 0, 0.3));\n",
              "      fill: #FFFFFF;\n",
              "    }\n",
              "  </style>\n",
              "\n",
              "      <script>\n",
              "        const buttonEl =\n",
              "          document.querySelector('#df-994dcec3-3b32-429f-a63f-ceb01ed4966a button.colab-df-convert');\n",
              "        buttonEl.style.display =\n",
              "          google.colab.kernel.accessAllowed ? 'block' : 'none';\n",
              "\n",
              "        async function convertToInteractive(key) {\n",
              "          const element = document.querySelector('#df-994dcec3-3b32-429f-a63f-ceb01ed4966a');\n",
              "          const dataTable =\n",
              "            await google.colab.kernel.invokeFunction('convertToInteractive',\n",
              "                                                     [key], {});\n",
              "          if (!dataTable) return;\n",
              "\n",
              "          const docLinkHtml = 'Like what you see? Visit the ' +\n",
              "            '<a target=\"_blank\" href=https://colab.research.google.com/notebooks/data_table.ipynb>data table notebook</a>'\n",
              "            + ' to learn more about interactive tables.';\n",
              "          element.innerHTML = '';\n",
              "          dataTable['output_type'] = 'display_data';\n",
              "          await google.colab.output.renderOutput(dataTable, element);\n",
              "          const docLink = document.createElement('div');\n",
              "          docLink.innerHTML = docLinkHtml;\n",
              "          element.appendChild(docLink);\n",
              "        }\n",
              "      </script>\n",
              "    </div>\n",
              "  </div>\n",
              "  "
            ]
          },
          "metadata": {},
          "execution_count": 42
        }
      ]
    },
    {
      "cell_type": "code",
      "source": [
        "# Splitting Dataset\n",
        "\n",
        "from sklearn.model_selection import train_test_split\n",
        "\n",
        "X_train, X_test, y_train, y_test = train_test_split(data.STEMMED_CONTENT,\n",
        "                                                    data.CLASS,\n",
        "                                                    test_size=0.3,\n",
        "                                                    random_state=10)\n",
        "\n",
        "print('Train Size : ', len(X_train))\n",
        "print('Test Size  : ', len(X_test))"
      ],
      "metadata": {
        "colab": {
          "base_uri": "https://localhost:8080/"
        },
        "id": "9FVwPytw6Zo8",
        "outputId": "d55b3319-9bc3-4ebe-bfd2-328f462d88fb"
      },
      "execution_count": null,
      "outputs": [
        {
          "output_type": "stream",
          "name": "stdout",
          "text": [
            "Train Size :  313\n",
            "Test Size  :  135\n"
          ]
        }
      ]
    },
    {
      "cell_type": "code",
      "source": [
        "# Download Stopwords\n",
        "\n",
        "import nltk\n",
        "nltk.download('stopwords')"
      ],
      "metadata": {
        "colab": {
          "base_uri": "https://localhost:8080/"
        },
        "outputId": "1a680658-cd7e-4bd3-9711-48ba724bab15",
        "id": "GyY-NmdGZyys"
      },
      "execution_count": null,
      "outputs": [
        {
          "output_type": "stream",
          "name": "stderr",
          "text": [
            "[nltk_data] Downloading package stopwords to /root/nltk_data...\n",
            "[nltk_data]   Package stopwords is already up-to-date!\n"
          ]
        },
        {
          "output_type": "execute_result",
          "data": {
            "text/plain": [
              "True"
            ]
          },
          "metadata": {},
          "execution_count": 44
        }
      ]
    },
    {
      "cell_type": "code",
      "source": [
        "# Define Stopwords\n",
        "\n",
        "## Load Stopwords from NLTK\n",
        "from nltk.corpus import stopwords\n",
        "stop_words_en = stopwords.words(\"english\")\n",
        "\n",
        "print('Stopwords from NLTK')\n",
        "print(len(stop_words_en), stop_words_en)\n",
        "print('')\n",
        "\n",
        "## Create A New Stopwords\n",
        "new_stop_words = ['aye', 'mine', 'have']\n",
        "\n",
        "## Merge Stopwords\n",
        "stop_words_en = stop_words_en + new_stop_words\n",
        "stop_words_en = list(set(stop_words_en))\n",
        "print('Out Final Stopwords')\n",
        "print(len(stop_words_en), stop_words_en)"
      ],
      "metadata": {
        "colab": {
          "base_uri": "https://localhost:8080/"
        },
        "outputId": "553a9dfb-1302-4ed0-f131-4943d290c936",
        "id": "AvOqua4KZyys"
      },
      "execution_count": null,
      "outputs": [
        {
          "output_type": "stream",
          "name": "stdout",
          "text": [
            "Stopwords from NLTK\n",
            "179 ['i', 'me', 'my', 'myself', 'we', 'our', 'ours', 'ourselves', 'you', \"you're\", \"you've\", \"you'll\", \"you'd\", 'your', 'yours', 'yourself', 'yourselves', 'he', 'him', 'his', 'himself', 'she', \"she's\", 'her', 'hers', 'herself', 'it', \"it's\", 'its', 'itself', 'they', 'them', 'their', 'theirs', 'themselves', 'what', 'which', 'who', 'whom', 'this', 'that', \"that'll\", 'these', 'those', 'am', 'is', 'are', 'was', 'were', 'be', 'been', 'being', 'have', 'has', 'had', 'having', 'do', 'does', 'did', 'doing', 'a', 'an', 'the', 'and', 'but', 'if', 'or', 'because', 'as', 'until', 'while', 'of', 'at', 'by', 'for', 'with', 'about', 'against', 'between', 'into', 'through', 'during', 'before', 'after', 'above', 'below', 'to', 'from', 'up', 'down', 'in', 'out', 'on', 'off', 'over', 'under', 'again', 'further', 'then', 'once', 'here', 'there', 'when', 'where', 'why', 'how', 'all', 'any', 'both', 'each', 'few', 'more', 'most', 'other', 'some', 'such', 'no', 'nor', 'not', 'only', 'own', 'same', 'so', 'than', 'too', 'very', 's', 't', 'can', 'will', 'just', 'don', \"don't\", 'should', \"should've\", 'now', 'd', 'll', 'm', 'o', 're', 've', 'y', 'ain', 'aren', \"aren't\", 'couldn', \"couldn't\", 'didn', \"didn't\", 'doesn', \"doesn't\", 'hadn', \"hadn't\", 'hasn', \"hasn't\", 'haven', \"haven't\", 'isn', \"isn't\", 'ma', 'mightn', \"mightn't\", 'mustn', \"mustn't\", 'needn', \"needn't\", 'shan', \"shan't\", 'shouldn', \"shouldn't\", 'wasn', \"wasn't\", 'weren', \"weren't\", 'won', \"won't\", 'wouldn', \"wouldn't\"]\n",
            "\n",
            "Out Final Stopwords\n",
            "181 ['been', 'once', 'very', 'under', 'does', 'herself', 'm', 'which', 't', \"isn't\", 'you', 'it', 'than', 'll', 'was', 'should', 'on', 'other', 'ma', 'where', 'they', 'more', 'at', 'don', 'ain', \"hasn't\", 'he', 'then', 'out', \"wasn't\", 'd', 'o', \"you've\", 're', 'doesn', 'your', 'with', 'if', \"shouldn't\", 'me', 'there', 'him', 'who', 'are', 'whom', 'yours', 'the', \"wouldn't\", \"hadn't\", 'through', 'to', 'can', 'own', 'shouldn', 'few', 'ourselves', \"won't\", 'their', 'no', 'further', \"that'll\", \"haven't\", \"needn't\", 'just', \"don't\", 'mustn', 'our', 'why', 'of', \"it's\", 'that', 'below', 'shan', 'but', \"aren't\", 'its', 'not', 'i', 'his', 'nor', 'won', 'an', 'yourselves', 'again', 'we', \"weren't\", \"mightn't\", 'am', 'mine', 'themselves', \"you'll\", 'has', 've', 'were', 'theirs', 'all', 'isn', 'each', \"didn't\", 'down', 'now', 'this', 'between', \"should've\", 'aye', 'mightn', 'because', 'too', \"shan't\", 'and', 'after', \"she's\", 'being', 'having', 'do', 'up', 'her', 'hadn', 'any', \"you'd\", \"you're\", 'wouldn', 'had', 'what', 'some', 'did', 'is', 'hers', 'have', 'them', 'be', 'yourself', 'my', 'needn', 'against', 'over', 'only', 'while', 'as', 'a', 'myself', 'itself', 'both', 'couldn', 'or', 'for', 'himself', 'until', 'from', 'in', 'off', 'here', 'y', 'weren', 'didn', 'into', 'during', 'these', 'when', 'before', \"doesn't\", \"mustn't\", 'such', 'wasn', 'aren', 'she', 'about', 'above', 'how', \"couldn't\", 'those', 'hasn', 'ours', 'most', 'by', 'doing', 'haven', 'so', 'same', 'will', 's']\n"
          ]
        }
      ]
    },
    {
      "cell_type": "code",
      "source": [
        "# Convert String into Numerical\n",
        "\n",
        "from sklearn.feature_extraction.text import CountVectorizer\n",
        "count_vect_sw_stem = CountVectorizer(stop_words = stop_words_en)\n",
        "\n",
        "count_vect_sw_stem.fit(X_train)\n",
        "X_train_count_vect_sw_stem = count_vect_sw_stem.transform(X_train)\n",
        "X_test_count_vect_sw_stem = count_vect_sw_stem.transform(X_test)"
      ],
      "metadata": {
        "id": "loCc8hNPZyys"
      },
      "execution_count": null,
      "outputs": []
    },
    {
      "cell_type": "code",
      "source": [
        "# See train_kalimat\n",
        "\n",
        "X_train_count_vect_sw_stem"
      ],
      "metadata": {
        "colab": {
          "base_uri": "https://localhost:8080/"
        },
        "outputId": "a805860c-57ae-4669-c534-19bd5df4a7bf",
        "id": "lOdNm_Y-Zyys"
      },
      "execution_count": null,
      "outputs": [
        {
          "output_type": "execute_result",
          "data": {
            "text/plain": [
              "<313x1142 sparse matrix of type '<class 'numpy.int64'>'\n",
              "\twith 3430 stored elements in Compressed Sparse Row format>"
            ]
          },
          "metadata": {},
          "execution_count": 47
        }
      ]
    },
    {
      "cell_type": "markdown",
      "source": [
        "Differences between without stopwords and with stopwords in terms of vocabularies.\n",
        "* Without Stopwords (only CountVectorizer)\n",
        "  - Total values : 313*1297 = 405,961\n",
        "  - Total non-zero values : 5,083\n",
        "  - Percentage : 1.25 %\n",
        "  - Total vocabularies : 1,297\n",
        "* With Stopwords\n",
        "  - Total values : 313*1190 = 372,470\n",
        "  - Total non-zero values : 3,306\n",
        "  - Percentage : 0.89 %\n",
        "  - Total vocabularies : 1,190\n",
        "* With Stopwords and Stemming\n",
        "  - Total values : 313*1142 = 357,446\n",
        "  - Total non-zero values : 3,430\n",
        "  - Percentage : 0.96 %\n",
        "  - Total vocabularies : 1,142\n",
        "\n",
        "As shown above, with stopwords :\n",
        "* We reduce the vocabularies from 1,297 to 1,142 (**11.95 %**)"
      ],
      "metadata": {
        "id": "V0rDXuiEZyyt"
      }
    },
    {
      "cell_type": "code",
      "source": [
        "# Train the Model\n",
        "\n",
        "from sklearn.neighbors import KNeighborsClassifier\n",
        "model_knn_count_vect_sw_stem = KNeighborsClassifier(n_neighbors=5)\n",
        "\n",
        "model_knn_count_vect_sw_stem.fit(X_train_count_vect_sw_stem, y_train)"
      ],
      "metadata": {
        "colab": {
          "base_uri": "https://localhost:8080/"
        },
        "outputId": "267a6661-d930-45f1-ea9b-b1c5b50f6b7a",
        "id": "TbKFwuXaZyyt"
      },
      "execution_count": null,
      "outputs": [
        {
          "output_type": "execute_result",
          "data": {
            "text/plain": [
              "KNeighborsClassifier()"
            ]
          },
          "metadata": {},
          "execution_count": 48
        }
      ]
    },
    {
      "cell_type": "code",
      "source": [
        "# Model Evaluation - Train Set\n",
        "\n",
        "from sklearn.metrics import classification_report\n",
        "\n",
        "y_pred_train = model_knn_count_vect_sw_stem.predict(X_train_count_vect_sw_stem)\n",
        "print(classification_report(y_train, y_pred_train))"
      ],
      "metadata": {
        "colab": {
          "base_uri": "https://localhost:8080/"
        },
        "outputId": "06b8ccd6-f2d4-439d-b0df-d9bee0d924f5",
        "id": "0VRJ4cpAZyyt"
      },
      "execution_count": null,
      "outputs": [
        {
          "output_type": "stream",
          "name": "stdout",
          "text": [
            "              precision    recall  f1-score   support\n",
            "\n",
            "           0       0.79      0.99      0.88       143\n",
            "           1       0.99      0.78      0.87       170\n",
            "\n",
            "    accuracy                           0.87       313\n",
            "   macro avg       0.89      0.88      0.87       313\n",
            "weighted avg       0.89      0.87      0.87       313\n",
            "\n"
          ]
        }
      ]
    },
    {
      "cell_type": "code",
      "source": [
        "# Model Evaluation - Test Set\n",
        "\n",
        "from sklearn.metrics import classification_report\n",
        "\n",
        "y_pred_test = model_knn_count_vect_sw_stem.predict(X_test_count_vect_sw_stem)\n",
        "print(classification_report(y_test, y_pred_test))"
      ],
      "metadata": {
        "colab": {
          "base_uri": "https://localhost:8080/"
        },
        "outputId": "848780ea-feee-4fdc-9780-e7dde7da89e9",
        "id": "c5f7wKVbZyyt"
      },
      "execution_count": null,
      "outputs": [
        {
          "output_type": "stream",
          "name": "stdout",
          "text": [
            "              precision    recall  f1-score   support\n",
            "\n",
            "           0       0.66      0.98      0.79        60\n",
            "           1       0.98      0.59      0.73        75\n",
            "\n",
            "    accuracy                           0.76       135\n",
            "   macro avg       0.82      0.78      0.76       135\n",
            "weighted avg       0.83      0.76      0.76       135\n",
            "\n"
          ]
        }
      ]
    },
    {
      "cell_type": "code",
      "source": [
        "# Predict New Texts\n",
        "\n",
        "new_texts = ['i love this artist',\n",
        "             'please subscribe my channel at bla bla bla']\n",
        "\n",
        "new_texts_count_vect_sw_stem = count_vect_sw_stem.transform(new_texts)\n",
        "model_knn_count_vect_sw_stem.predict(new_texts_count_vect_sw_stem)"
      ],
      "metadata": {
        "colab": {
          "base_uri": "https://localhost:8080/"
        },
        "outputId": "2d2701d6-c382-43d6-c9f7-e3b93797af65",
        "id": "2B8Qic82Zyyt"
      },
      "execution_count": null,
      "outputs": [
        {
          "output_type": "execute_result",
          "data": {
            "text/plain": [
              "array([0, 0])"
            ]
          },
          "metadata": {},
          "execution_count": 51
        }
      ]
    },
    {
      "cell_type": "code",
      "source": [
        "# Save Classification Report into a Dictionary\n",
        "\n",
        "score_reports = {\n",
        "    'train - precision' : precision_score(y_train, y_pred_train),\n",
        "    'train - recall' : recall_score(y_train, y_pred_train),\n",
        "    'train - accuracy' : accuracy_score(y_train, y_pred_train),\n",
        "    'train - f1_score' : f1_score(y_train, y_pred_train),\n",
        "    'test - precision' : precision_score(y_test, y_pred_test),\n",
        "    'test - recall' : recall_score(y_test, y_pred_test),\n",
        "    'test - accuracy_score' : accuracy_score(y_test, y_pred_test),\n",
        "    'test - f1_score' : f1_score(y_test, y_pred_test),\n",
        "}\n",
        "all_reports['CountVectorizer + Stopwords + Stemming'] = score_reports\n",
        "pd.DataFrame(all_reports)"
      ],
      "metadata": {
        "colab": {
          "base_uri": "https://localhost:8080/",
          "height": 379
        },
        "outputId": "3231ebce-0620-48b3-f6bc-89a0ba270a8f",
        "id": "gunXZJEWZyyt"
      },
      "execution_count": null,
      "outputs": [
        {
          "output_type": "execute_result",
          "data": {
            "text/plain": [
              "                       CountVectorizer  TfidfVectorizer  \\\n",
              "train - precision             1.000000         1.000000   \n",
              "train - recall                0.776471         0.288235   \n",
              "train - accuracy              0.878594         0.613419   \n",
              "train - f1_score              0.874172         0.447489   \n",
              "test - precision              1.000000         1.000000   \n",
              "test - recall                 0.653333         0.280000   \n",
              "test - accuracy_score         0.807407         0.600000   \n",
              "test - f1_score               0.790323         0.437500   \n",
              "\n",
              "                       CountVectorizer + Stopwords  \\\n",
              "train - precision                         1.000000   \n",
              "train - recall                            0.764706   \n",
              "train - accuracy                          0.872204   \n",
              "train - f1_score                          0.866667   \n",
              "test - precision                          1.000000   \n",
              "test - recall                             0.653333   \n",
              "test - accuracy_score                     0.807407   \n",
              "test - f1_score                           0.790323   \n",
              "\n",
              "                       CountVectorizer + Stopwords + Stemming  \n",
              "train - precision                                    0.985075  \n",
              "train - recall                                       0.776471  \n",
              "train - accuracy                                     0.872204  \n",
              "train - f1_score                                     0.868421  \n",
              "test - precision                                     0.977778  \n",
              "test - recall                                        0.586667  \n",
              "test - accuracy_score                                0.762963  \n",
              "test - f1_score                                      0.733333  "
            ],
            "text/html": [
              "\n",
              "  <div id=\"df-7d3e13bb-2d1f-49c6-bd6d-7d3f2825de67\">\n",
              "    <div class=\"colab-df-container\">\n",
              "      <div>\n",
              "<style scoped>\n",
              "    .dataframe tbody tr th:only-of-type {\n",
              "        vertical-align: middle;\n",
              "    }\n",
              "\n",
              "    .dataframe tbody tr th {\n",
              "        vertical-align: top;\n",
              "    }\n",
              "\n",
              "    .dataframe thead th {\n",
              "        text-align: right;\n",
              "    }\n",
              "</style>\n",
              "<table border=\"1\" class=\"dataframe\">\n",
              "  <thead>\n",
              "    <tr style=\"text-align: right;\">\n",
              "      <th></th>\n",
              "      <th>CountVectorizer</th>\n",
              "      <th>TfidfVectorizer</th>\n",
              "      <th>CountVectorizer + Stopwords</th>\n",
              "      <th>CountVectorizer + Stopwords + Stemming</th>\n",
              "    </tr>\n",
              "  </thead>\n",
              "  <tbody>\n",
              "    <tr>\n",
              "      <th>train - precision</th>\n",
              "      <td>1.000000</td>\n",
              "      <td>1.000000</td>\n",
              "      <td>1.000000</td>\n",
              "      <td>0.985075</td>\n",
              "    </tr>\n",
              "    <tr>\n",
              "      <th>train - recall</th>\n",
              "      <td>0.776471</td>\n",
              "      <td>0.288235</td>\n",
              "      <td>0.764706</td>\n",
              "      <td>0.776471</td>\n",
              "    </tr>\n",
              "    <tr>\n",
              "      <th>train - accuracy</th>\n",
              "      <td>0.878594</td>\n",
              "      <td>0.613419</td>\n",
              "      <td>0.872204</td>\n",
              "      <td>0.872204</td>\n",
              "    </tr>\n",
              "    <tr>\n",
              "      <th>train - f1_score</th>\n",
              "      <td>0.874172</td>\n",
              "      <td>0.447489</td>\n",
              "      <td>0.866667</td>\n",
              "      <td>0.868421</td>\n",
              "    </tr>\n",
              "    <tr>\n",
              "      <th>test - precision</th>\n",
              "      <td>1.000000</td>\n",
              "      <td>1.000000</td>\n",
              "      <td>1.000000</td>\n",
              "      <td>0.977778</td>\n",
              "    </tr>\n",
              "    <tr>\n",
              "      <th>test - recall</th>\n",
              "      <td>0.653333</td>\n",
              "      <td>0.280000</td>\n",
              "      <td>0.653333</td>\n",
              "      <td>0.586667</td>\n",
              "    </tr>\n",
              "    <tr>\n",
              "      <th>test - accuracy_score</th>\n",
              "      <td>0.807407</td>\n",
              "      <td>0.600000</td>\n",
              "      <td>0.807407</td>\n",
              "      <td>0.762963</td>\n",
              "    </tr>\n",
              "    <tr>\n",
              "      <th>test - f1_score</th>\n",
              "      <td>0.790323</td>\n",
              "      <td>0.437500</td>\n",
              "      <td>0.790323</td>\n",
              "      <td>0.733333</td>\n",
              "    </tr>\n",
              "  </tbody>\n",
              "</table>\n",
              "</div>\n",
              "      <button class=\"colab-df-convert\" onclick=\"convertToInteractive('df-7d3e13bb-2d1f-49c6-bd6d-7d3f2825de67')\"\n",
              "              title=\"Convert this dataframe to an interactive table.\"\n",
              "              style=\"display:none;\">\n",
              "        \n",
              "  <svg xmlns=\"http://www.w3.org/2000/svg\" height=\"24px\"viewBox=\"0 0 24 24\"\n",
              "       width=\"24px\">\n",
              "    <path d=\"M0 0h24v24H0V0z\" fill=\"none\"/>\n",
              "    <path d=\"M18.56 5.44l.94 2.06.94-2.06 2.06-.94-2.06-.94-.94-2.06-.94 2.06-2.06.94zm-11 1L8.5 8.5l.94-2.06 2.06-.94-2.06-.94L8.5 2.5l-.94 2.06-2.06.94zm10 10l.94 2.06.94-2.06 2.06-.94-2.06-.94-.94-2.06-.94 2.06-2.06.94z\"/><path d=\"M17.41 7.96l-1.37-1.37c-.4-.4-.92-.59-1.43-.59-.52 0-1.04.2-1.43.59L10.3 9.45l-7.72 7.72c-.78.78-.78 2.05 0 2.83L4 21.41c.39.39.9.59 1.41.59.51 0 1.02-.2 1.41-.59l7.78-7.78 2.81-2.81c.8-.78.8-2.07 0-2.86zM5.41 20L4 18.59l7.72-7.72 1.47 1.35L5.41 20z\"/>\n",
              "  </svg>\n",
              "      </button>\n",
              "      \n",
              "  <style>\n",
              "    .colab-df-container {\n",
              "      display:flex;\n",
              "      flex-wrap:wrap;\n",
              "      gap: 12px;\n",
              "    }\n",
              "\n",
              "    .colab-df-convert {\n",
              "      background-color: #E8F0FE;\n",
              "      border: none;\n",
              "      border-radius: 50%;\n",
              "      cursor: pointer;\n",
              "      display: none;\n",
              "      fill: #1967D2;\n",
              "      height: 32px;\n",
              "      padding: 0 0 0 0;\n",
              "      width: 32px;\n",
              "    }\n",
              "\n",
              "    .colab-df-convert:hover {\n",
              "      background-color: #E2EBFA;\n",
              "      box-shadow: 0px 1px 2px rgba(60, 64, 67, 0.3), 0px 1px 3px 1px rgba(60, 64, 67, 0.15);\n",
              "      fill: #174EA6;\n",
              "    }\n",
              "\n",
              "    [theme=dark] .colab-df-convert {\n",
              "      background-color: #3B4455;\n",
              "      fill: #D2E3FC;\n",
              "    }\n",
              "\n",
              "    [theme=dark] .colab-df-convert:hover {\n",
              "      background-color: #434B5C;\n",
              "      box-shadow: 0px 1px 3px 1px rgba(0, 0, 0, 0.15);\n",
              "      filter: drop-shadow(0px 1px 2px rgba(0, 0, 0, 0.3));\n",
              "      fill: #FFFFFF;\n",
              "    }\n",
              "  </style>\n",
              "\n",
              "      <script>\n",
              "        const buttonEl =\n",
              "          document.querySelector('#df-7d3e13bb-2d1f-49c6-bd6d-7d3f2825de67 button.colab-df-convert');\n",
              "        buttonEl.style.display =\n",
              "          google.colab.kernel.accessAllowed ? 'block' : 'none';\n",
              "\n",
              "        async function convertToInteractive(key) {\n",
              "          const element = document.querySelector('#df-7d3e13bb-2d1f-49c6-bd6d-7d3f2825de67');\n",
              "          const dataTable =\n",
              "            await google.colab.kernel.invokeFunction('convertToInteractive',\n",
              "                                                     [key], {});\n",
              "          if (!dataTable) return;\n",
              "\n",
              "          const docLinkHtml = 'Like what you see? Visit the ' +\n",
              "            '<a target=\"_blank\" href=https://colab.research.google.com/notebooks/data_table.ipynb>data table notebook</a>'\n",
              "            + ' to learn more about interactive tables.';\n",
              "          element.innerHTML = '';\n",
              "          dataTable['output_type'] = 'display_data';\n",
              "          await google.colab.output.renderOutput(dataTable, element);\n",
              "          const docLink = document.createElement('div');\n",
              "          docLink.innerHTML = docLinkHtml;\n",
              "          element.appendChild(docLink);\n",
              "        }\n",
              "      </script>\n",
              "    </div>\n",
              "  </div>\n",
              "  "
            ]
          },
          "metadata": {},
          "execution_count": 52
        }
      ]
    },
    {
      "cell_type": "markdown",
      "source": [
        "---\n",
        "Conclusion :\n",
        "* Based on above Classification Report, we can see that our model with only `CountVectorizer()` has best performance compare to other model.\n",
        "\n",
        "* Hence, model `CountVectorizer + Stopwords` also has similar performance to the best model but with less vocabularies. We can pick this model as the choosen model.\n",
        "\n",
        "* It's still too early to judge whether in this case using Stopwords and or Stemming improve the performance or not. Try another algorithms such as Multinomial Naive Bayes, Random FOrest, with or without stopwords and stemming, and check their perfomances."
      ],
      "metadata": {
        "id": "izTHBtrI7_nE"
      }
    },
    {
      "cell_type": "code",
      "source": [
        "stopwords.fileids()"
      ],
      "metadata": {
        "colab": {
          "base_uri": "https://localhost:8080/"
        },
        "id": "KnbjVwsy0YCR",
        "outputId": "08a9fe37-e71a-48c2-f670-c7c61dc6e9c0"
      },
      "execution_count": null,
      "outputs": [
        {
          "output_type": "execute_result",
          "data": {
            "text/plain": [
              "['arabic',\n",
              " 'azerbaijani',\n",
              " 'basque',\n",
              " 'bengali',\n",
              " 'catalan',\n",
              " 'chinese',\n",
              " 'danish',\n",
              " 'dutch',\n",
              " 'english',\n",
              " 'finnish',\n",
              " 'french',\n",
              " 'german',\n",
              " 'greek',\n",
              " 'hebrew',\n",
              " 'hinglish',\n",
              " 'hungarian',\n",
              " 'indonesian',\n",
              " 'italian',\n",
              " 'kazakh',\n",
              " 'nepali',\n",
              " 'norwegian',\n",
              " 'portuguese',\n",
              " 'romanian',\n",
              " 'russian',\n",
              " 'slovene',\n",
              " 'spanish',\n",
              " 'swedish',\n",
              " 'tajik',\n",
              " 'turkish']"
            ]
          },
          "metadata": {},
          "execution_count": 61
        }
      ]
    },
    {
      "cell_type": "code",
      "source": [
        "stopwords.words(\"indonesian\")"
      ],
      "metadata": {
        "id": "Bgmk2XFY1E3i"
      },
      "execution_count": null,
      "outputs": []
    }
  ]
}