{
  "nbformat": 4,
  "nbformat_minor": 0,
  "metadata": {
    "accelerator": "GPU",
    "colab": {
      "provenance": [],
      "include_colab_link": true
    },
    "kernelspec": {
      "display_name": "Python 3",
      "name": "python3"
    }
  },
  "cells": [
    {
      "cell_type": "markdown",
      "metadata": {
        "id": "view-in-github",
        "colab_type": "text"
      },
      "source": [
        "<a href=\"https://colab.research.google.com/github/daniel-satria/h8_p2/blob/main/Text_Classification_with_RNN.ipynb\" target=\"_parent\"><img src=\"https://colab.research.google.com/assets/colab-badge.svg\" alt=\"Open In Colab\"/></a>"
      ]
    },
    {
      "cell_type": "markdown",
      "metadata": {
        "id": "hX4n9TsbGw-f"
      },
      "source": [
        "##### Copyright 2018 The TensorFlow Authors."
      ]
    },
    {
      "cell_type": "code",
      "metadata": {
        "id": "0nbI5DtDGw-i"
      },
      "source": [
        "#@title Licensed under the Apache License, Version 2.0 (the \"License\");\n",
        "# you may not use this file except in compliance with the License.\n",
        "# You may obtain a copy of the License at\n",
        "#\n",
        "# https://www.apache.org/licenses/LICENSE-2.0\n",
        "#\n",
        "# Unless required by applicable law or agreed to in writing, software\n",
        "# distributed under the License is distributed on an \"AS IS\" BASIS,\n",
        "# WITHOUT WARRANTIES OR CONDITIONS OF ANY KIND, either express or implied.\n",
        "# See the License for the specific language governing permissions and\n",
        "# limitations under the License."
      ],
      "execution_count": null,
      "outputs": []
    },
    {
      "cell_type": "markdown",
      "metadata": {
        "id": "9TnJztDZGw-n"
      },
      "source": [
        "# Text classification with an RNN"
      ]
    },
    {
      "cell_type": "markdown",
      "metadata": {
        "id": "lUWearf0Gw-p"
      },
      "source": [
        "This text classification tutorial trains a [recurrent neural network](https://developers.google.com/machine-learning/glossary/#recurrent_neural_network) on the [IMDB large movie review dataset](http://ai.stanford.edu/~amaas/data/sentiment/) for sentiment analysis."
      ]
    },
    {
      "cell_type": "markdown",
      "metadata": {
        "id": "_2VQo4bajwUU"
      },
      "source": [
        "## Setup"
      ]
    },
    {
      "cell_type": "code",
      "metadata": {
        "id": "z682XYsrjkY9"
      },
      "source": [
        "import numpy as np\n",
        "\n",
        "import tensorflow_datasets as tfds\n",
        "import tensorflow as tf\n",
        "\n",
        "tfds.disable_progress_bar()"
      ],
      "execution_count": null,
      "outputs": []
    },
    {
      "cell_type": "markdown",
      "metadata": {
        "id": "1rXHa-w9JZhb"
      },
      "source": [
        "Import `matplotlib` and create a helper function to plot graphs:"
      ]
    },
    {
      "cell_type": "code",
      "metadata": {
        "id": "Mp1Z7P9pYRSK"
      },
      "source": [
        "import matplotlib.pyplot as plt\n",
        "\n",
        "\n",
        "def plot_graphs(history, metric):\n",
        "  plt.plot(history.history[metric])\n",
        "  plt.plot(history.history['val_'+metric], '')\n",
        "  plt.xlabel(\"Epochs\")\n",
        "  plt.ylabel(metric)\n",
        "  plt.legend([metric, 'val_'+metric])"
      ],
      "execution_count": null,
      "outputs": []
    },
    {
      "cell_type": "markdown",
      "metadata": {
        "id": "pRmMubr0jrE2"
      },
      "source": [
        "## Setup input pipeline\n",
        "\n",
        "\n",
        "The IMDB large movie review dataset is a *binary classification* dataset—all the reviews have either a *positive* or *negative* sentiment.\n",
        "\n",
        "Download the dataset using [TFDS](https://www.tensorflow.org/datasets). See the [loading text tutorial](https://www.tensorflow.org/tutorials/load_data/text) for details on how to load this sort of data manually.\n"
      ]
    },
    {
      "cell_type": "code",
      "metadata": {
        "id": "SHRwRoP2nVHX",
        "outputId": "751f28ea-8516-4122-c8d1-9c85b32ccc22",
        "colab": {
          "base_uri": "https://localhost:8080/"
        }
      },
      "source": [
        "dataset, info = tfds.load('imdb_reviews', with_info=True,\n",
        "                          as_supervised=True)\n",
        "train_dataset, test_dataset = dataset['train'], dataset['test']\n",
        "\n",
        "train_dataset.element_spec"
      ],
      "execution_count": null,
      "outputs": [
        {
          "output_type": "stream",
          "name": "stdout",
          "text": [
            "\u001b[1mDownloading and preparing dataset 80.23 MiB (download: 80.23 MiB, generated: Unknown size, total: 80.23 MiB) to ~/tensorflow_datasets/imdb_reviews/plain_text/1.0.0...\u001b[0m\n",
            "\u001b[1mDataset imdb_reviews downloaded and prepared to ~/tensorflow_datasets/imdb_reviews/plain_text/1.0.0. Subsequent calls will reuse this data.\u001b[0m\n"
          ]
        },
        {
          "output_type": "execute_result",
          "data": {
            "text/plain": [
              "(TensorSpec(shape=(), dtype=tf.string, name=None),\n",
              " TensorSpec(shape=(), dtype=tf.int64, name=None))"
            ]
          },
          "metadata": {},
          "execution_count": 4
        }
      ]
    },
    {
      "cell_type": "markdown",
      "metadata": {
        "id": "nWA4c2ir7g6p"
      },
      "source": [
        "Initially this returns a dataset of (text, label pairs):"
      ]
    },
    {
      "cell_type": "code",
      "metadata": {
        "id": "vd4_BGKyurao",
        "outputId": "1f1839fa-d6b8-4925-fea9-99989c3c9a82",
        "colab": {
          "base_uri": "https://localhost:8080/"
        }
      },
      "source": [
        "for example, label in train_dataset.take(1):\n",
        "  print('text: ', example.numpy())\n",
        "  print('label: ', label.numpy())"
      ],
      "execution_count": null,
      "outputs": [
        {
          "output_type": "stream",
          "name": "stdout",
          "text": [
            "text:  b\"This was an absolutely terrible movie. Don't be lured in by Christopher Walken or Michael Ironside. Both are great actors, but this must simply be their worst role in history. Even their great acting could not redeem this movie's ridiculous storyline. This movie is an early nineties US propaganda piece. The most pathetic scenes were those when the Columbian rebels were making their cases for revolutions. Maria Conchita Alonso appeared phony, and her pseudo-love affair with Walken was nothing but a pathetic emotional plug in a movie that was devoid of any real meaning. I am disappointed that there are movies like this, ruining actor's like Christopher Walken's good name. I could barely sit through it.\"\n",
            "label:  0\n"
          ]
        }
      ]
    },
    {
      "cell_type": "markdown",
      "metadata": {
        "id": "z2qVJzcEluH_"
      },
      "source": [
        "Next shuffle the data for training and create batches of these `(text, label)` pairs:"
      ]
    },
    {
      "cell_type": "code",
      "metadata": {
        "id": "dDsCaZCDYZgm"
      },
      "source": [
        "BUFFER_SIZE = 10000\n",
        "BATCH_SIZE = 64"
      ],
      "execution_count": null,
      "outputs": []
    },
    {
      "cell_type": "code",
      "metadata": {
        "id": "VznrltNOnUc5"
      },
      "source": [
        "train_dataset = train_dataset.shuffle(BUFFER_SIZE).batch(BATCH_SIZE).prefetch(tf.data.AUTOTUNE)\n",
        "test_dataset = test_dataset.batch(BATCH_SIZE).prefetch(tf.data.AUTOTUNE)"
      ],
      "execution_count": null,
      "outputs": []
    },
    {
      "cell_type": "code",
      "metadata": {
        "id": "jqkvdcFv41wC",
        "outputId": "001aa57b-b43f-4da1-b35c-d2f2453df12f",
        "colab": {
          "base_uri": "https://localhost:8080/"
        }
      },
      "source": [
        "for example, label in train_dataset.take(1):\n",
        "  print('texts: ', example.numpy()[:3])\n",
        "  print()\n",
        "  print('labels: ', label.numpy()[:3])"
      ],
      "execution_count": null,
      "outputs": [
        {
          "output_type": "stream",
          "name": "stdout",
          "text": [
            "texts:  [b\"this video is 100% retarded. besides the brain cell killing acting and plot, it's way too long. don't waste your money at the video store. i actually was mad that i sat through this garbage and spent money on it. just absolutely awful.\"\n",
            " b'As serials go \"Zorro\\'s Fighting Legion\" is one of the best action serials of the 1930s. Made in a period when the studios could still field a large cast, this one has wall to wall action throughout its 12 chapters.<br /><br />In 1824 the President of the newly formed Republic of Mexico Benito Juarez (Carleton Young) is trying to put his new country on a solid financial footing. To that end, he has arranged to have rich gold shipments forwarded to the capitol from the local San Mendolita mine.<br /><br />Members of the local council plot to steal the shipments on behalf of Don-del-Oro a gold armored god, who with the aid of the local Yaqui tribe, hopes to install himself as the ruler of Mexico. Opposing him is Don Francisco (Guy D\\'Ennery) who forms a legion of locals to aid Juarez. When Don Franciso is murdered by Don-del-Oro\\'s men, a stranger, the fopish Don Diego (Reed Hadley) arrives in town. Diego aka Zorro takes over the legion with the help of his friends Ramon (William Corson) and Juan (Budd Buster). The token heroine of the piece is Ramon\\'s sister Volita (Sheila D\\'Arcy).<br /><br />Both Diego and Ramon hold seats on the local ruling Counsil. It soon becomes apparent that some of the other members of the Council are in league with Don-del-Oro. First there is the Chairman of the Council (Leander de Cordova), the head of the militia Manuel (John Merton), Chief Justice Pablo (C. Montague Shaw) and Gonzolez (Edmund Cobb). Zorro suspects that one of these men is Don-del-Oro, but which one?<br /><br />What follows are several hair raising escapes by Zorro and his confederates from the followers of Don-del-Oro. We have the ever present collapsing rope bridge, the deep chasm between two cliffs over which only Zorro can jump to safety, and the usual assortment of explosions, fires and coaches and wagons crashing or going over the cliff. Hats off here to Republic\\'s fine team of stunt men lead by the legendary Yakima Canutt and the Yrigoyens, Bill and Joe. Canutt performs his signature stunt jumping on a team of runaway horses and then falling beneath the coach which he repeated in other films including John Ford\\'s \"Stagecoach\" the same year.<br /><br />Anyway, Zorro finally unmasks the false god Don-del-Oro and restores peace to the valley before riding off into the sunset in Chapter 12.<br /><br />Others in the cast include Jim Pierce, Curley Dresden and Charlie King as Don-del-Oro\\'s hence men and if you look closely you may spot bits by future serial star and Lone Ranger Clayton Moore and stuntman Canutt in bits. \"Big\" Jim Pierce by the way, may be best remembered for playing Tarzan in 1927\\'s \"Tarzan and the Golden Liom\" (1927) and for his marriage to Joan Burroughs the daughter of Tarzan creator Edgar Rice Burroughs.<br /><br />Thoroughly enjoyable.'\n",
            " b'\"A stage company cast finds themselves terrified when a bizarre killer known as \\'The Fiend\\' targets them for death. A pair of reporters and their clumsy photographer set out to work the story of \\'The Fiend\\' and find themselves targets as well. Just as you think our trio of heroes has the case solved, you\\'re thrown another twist that has you wondering who the killer really is,\" according to the DVD sleeve\\'s synopsis.<br /><br />Taking \"The Hunchback of Notre Dame\" to Hollywood, producer Sam Katzman\\'s lack of studio settings probably helps \"A Face in the Fog\" look interesting, especially toward the end (1930s traffic). The direction could be improved upon; for example, the camera angle on the fight scene is not helpful. The budget appears slight. Under the circumstances, most of the silent/talkie crossover cast perform it amiably.<br /><br />**** A Face in the Fog (2/1/36) Robert F. Hill ~ Lloyd Hughes, June Collyer, Al St. John']\n",
            "\n",
            "labels:  [0 1 0]\n"
          ]
        }
      ]
    },
    {
      "cell_type": "markdown",
      "metadata": {
        "id": "s5eWCo88voPY"
      },
      "source": [
        "## Create the text encoder"
      ]
    },
    {
      "cell_type": "markdown",
      "metadata": {
        "id": "TFevcItw15P_"
      },
      "source": [
        "The raw text loaded by `tfds` needs to be processed before it can be used in a model. The simplest way to process text for training is using the `experimental.preprocessing.TextVectorization` layer. This layer has many capabilities, but this tutorial sticks to the default behavior.\n",
        "\n",
        "Create the layer, and pass the dataset's text to the layer's `.adapt` method:"
      ]
    },
    {
      "cell_type": "code",
      "metadata": {
        "id": "uC25Lu1Yvuqy"
      },
      "source": [
        "VOCAB_SIZE = 1000\n",
        "encoder = tf.keras.layers.experimental.preprocessing.TextVectorization(\n",
        "    max_tokens=VOCAB_SIZE)\n",
        "encoder.adapt(train_dataset.map(lambda text, label: text))"
      ],
      "execution_count": null,
      "outputs": []
    },
    {
      "cell_type": "markdown",
      "metadata": {
        "id": "IuQzVBbe3Ldu"
      },
      "source": [
        "The `.adapt` method sets the layer's vocabulary. Here are the first 20 tokens. After the padding and unknown tokens they're sorted by frequency:"
      ]
    },
    {
      "cell_type": "code",
      "metadata": {
        "id": "tBoyjjWg0Ac9",
        "outputId": "926114dd-48b5-403b-c3bc-0e26bd06bdec",
        "colab": {
          "base_uri": "https://localhost:8080/"
        }
      },
      "source": [
        "vocab = np.array(encoder.get_vocabulary())\n",
        "vocab[:20]"
      ],
      "execution_count": null,
      "outputs": [
        {
          "output_type": "execute_result",
          "data": {
            "text/plain": [
              "array(['', '[UNK]', 'the', 'and', 'a', 'of', 'to', 'is', 'in', 'it', 'i',\n",
              "       'this', 'that', 'br', 'was', 'as', 'for', 'with', 'movie', 'but'],\n",
              "      dtype='<U14')"
            ]
          },
          "metadata": {},
          "execution_count": 10
        }
      ]
    },
    {
      "cell_type": "markdown",
      "metadata": {
        "id": "mjId5pua3jHQ"
      },
      "source": [
        "Once the vocabulary is set, the layer can encode text into indices. The tensors of indices are 0-padded to the longest sequence in the batch (unless you set a fixed `output_sequence_length`):"
      ]
    },
    {
      "cell_type": "code",
      "metadata": {
        "id": "RGc7C9WiwRWs",
        "outputId": "1cea626c-9d35-4d45-caa6-8d7f7c20c53b",
        "colab": {
          "base_uri": "https://localhost:8080/"
        }
      },
      "source": [
        "encoded_example = encoder(example)[:3].numpy()\n",
        "encoded_example"
      ],
      "execution_count": null,
      "outputs": [
        {
          "output_type": "execute_result",
          "data": {
            "text/plain": [
              "array([[ 11, 393,   7, ...,   0,   0,   0],\n",
              "       [ 15,   1, 138, ...,   0,   0,   0],\n",
              "       [  4, 870,   1, ...,   0,   0,   0]])"
            ]
          },
          "metadata": {},
          "execution_count": 11
        }
      ]
    },
    {
      "cell_type": "markdown",
      "metadata": {
        "id": "F5cjz0bS39IN"
      },
      "source": [
        "With the default settings, the process is not completely reversible. There are three main reasons for that:\n",
        "\n",
        "1. The default value for `preprocessing.TextVectorization`'s `standardize` argument is `\"lower_and_strip_punctuation\"`.\n",
        "2. The limited vocabulary size and lack of character-based fallback results in some unknown tokens."
      ]
    },
    {
      "cell_type": "code",
      "metadata": {
        "id": "N_tD0QY5wXaK",
        "outputId": "20865cfc-cf0d-44fc-d6e3-85bd01599a35",
        "colab": {
          "base_uri": "https://localhost:8080/"
        }
      },
      "source": [
        "for n in range(3):\n",
        "  print(\"Original: \", example[n].numpy())\n",
        "  print(\"Round-trip: \", \" \".join(vocab[encoded_example[n]]))\n",
        "  print()"
      ],
      "execution_count": null,
      "outputs": [
        {
          "output_type": "stream",
          "name": "stdout",
          "text": [
            "Original:  b\"this video is 100% retarded. besides the brain cell killing acting and plot, it's way too long. don't waste your money at the video store. i actually was mad that i sat through this garbage and spent money on it. just absolutely awful.\"\n",
            "Round-trip:  this video is [UNK] [UNK] [UNK] the [UNK] [UNK] killing acting and plot its way too long dont waste your money at the video [UNK] i actually was [UNK] that i [UNK] through this [UNK] and [UNK] money on it just absolutely awful                                                                                                                                                                                                                                                                                                                                                                                                                                                                                                                                                                                                                                                                                                                                                                                                                                                                                                                                                       \n",
            "\n",
            "Original:  b'As serials go \"Zorro\\'s Fighting Legion\" is one of the best action serials of the 1930s. Made in a period when the studios could still field a large cast, this one has wall to wall action throughout its 12 chapters.<br /><br />In 1824 the President of the newly formed Republic of Mexico Benito Juarez (Carleton Young) is trying to put his new country on a solid financial footing. To that end, he has arranged to have rich gold shipments forwarded to the capitol from the local San Mendolita mine.<br /><br />Members of the local council plot to steal the shipments on behalf of Don-del-Oro a gold armored god, who with the aid of the local Yaqui tribe, hopes to install himself as the ruler of Mexico. Opposing him is Don Francisco (Guy D\\'Ennery) who forms a legion of locals to aid Juarez. When Don Franciso is murdered by Don-del-Oro\\'s men, a stranger, the fopish Don Diego (Reed Hadley) arrives in town. Diego aka Zorro takes over the legion with the help of his friends Ramon (William Corson) and Juan (Budd Buster). The token heroine of the piece is Ramon\\'s sister Volita (Sheila D\\'Arcy).<br /><br />Both Diego and Ramon hold seats on the local ruling Counsil. It soon becomes apparent that some of the other members of the Council are in league with Don-del-Oro. First there is the Chairman of the Council (Leander de Cordova), the head of the militia Manuel (John Merton), Chief Justice Pablo (C. Montague Shaw) and Gonzolez (Edmund Cobb). Zorro suspects that one of these men is Don-del-Oro, but which one?<br /><br />What follows are several hair raising escapes by Zorro and his confederates from the followers of Don-del-Oro. We have the ever present collapsing rope bridge, the deep chasm between two cliffs over which only Zorro can jump to safety, and the usual assortment of explosions, fires and coaches and wagons crashing or going over the cliff. Hats off here to Republic\\'s fine team of stunt men lead by the legendary Yakima Canutt and the Yrigoyens, Bill and Joe. Canutt performs his signature stunt jumping on a team of runaway horses and then falling beneath the coach which he repeated in other films including John Ford\\'s \"Stagecoach\" the same year.<br /><br />Anyway, Zorro finally unmasks the false god Don-del-Oro and restores peace to the valley before riding off into the sunset in Chapter 12.<br /><br />Others in the cast include Jim Pierce, Curley Dresden and Charlie King as Don-del-Oro\\'s hence men and if you look closely you may spot bits by future serial star and Lone Ranger Clayton Moore and stuntman Canutt in bits. \"Big\" Jim Pierce by the way, may be best remembered for playing Tarzan in 1927\\'s \"Tarzan and the Golden Liom\" (1927) and for his marriage to Joan Burroughs the daughter of Tarzan creator Edgar Rice Burroughs.<br /><br />Thoroughly enjoyable.'\n",
            "Round-trip:  as [UNK] go [UNK] fighting [UNK] is one of the best action [UNK] of the [UNK] made in a period when the [UNK] could still [UNK] a [UNK] cast this one has [UNK] to [UNK] action throughout its [UNK] [UNK] br in [UNK] the [UNK] of the [UNK] [UNK] [UNK] of [UNK] [UNK] [UNK] [UNK] young is trying to put his new country on a [UNK] [UNK] [UNK] to that end he has [UNK] to have [UNK] [UNK] [UNK] [UNK] to the [UNK] from the local [UNK] [UNK] [UNK] br [UNK] of the local [UNK] plot to [UNK] the [UNK] on [UNK] of [UNK] a [UNK] [UNK] god who with the [UNK] of the local [UNK] [UNK] [UNK] to [UNK] himself as the [UNK] of [UNK] [UNK] him is [UNK] [UNK] guy [UNK] who [UNK] a [UNK] of [UNK] to [UNK] [UNK] when [UNK] [UNK] is [UNK] by [UNK] men a [UNK] the [UNK] [UNK] [UNK] [UNK] [UNK] [UNK] in town [UNK] [UNK] [UNK] takes over the [UNK] with the help of his friends [UNK] [UNK] [UNK] and [UNK] [UNK] [UNK] the [UNK] [UNK] of the piece is [UNK] sister [UNK] [UNK] [UNK] br both [UNK] and [UNK] [UNK] [UNK] on the local [UNK] [UNK] it soon becomes [UNK] that some of the other [UNK] of the [UNK] are in [UNK] with [UNK] first there is the [UNK] of the [UNK] [UNK] de [UNK] the head of the [UNK] [UNK] john [UNK] [UNK] [UNK] [UNK] [UNK] [UNK] [UNK] and [UNK] [UNK] [UNK] [UNK] [UNK] that one of these men is [UNK] but which [UNK] br what [UNK] are several [UNK] [UNK] [UNK] by [UNK] and his [UNK] from the [UNK] of [UNK] we have the ever present [UNK] [UNK] [UNK] the deep [UNK] between two [UNK] over which only [UNK] can [UNK] to [UNK] and the usual [UNK] of [UNK] [UNK] and [UNK] and [UNK] [UNK] or going over the [UNK] [UNK] off here to [UNK] fine team of [UNK] men lead by the [UNK] [UNK] [UNK] and the [UNK] bill and joe [UNK] [UNK] his [UNK] [UNK] [UNK] on a team of [UNK] [UNK] and then [UNK] [UNK] the [UNK] which he [UNK] in other films including john [UNK] [UNK] the same [UNK] br anyway [UNK] finally [UNK] the [UNK] god [UNK] and [UNK] [UNK] to the [UNK] before [UNK] off into the [UNK] in [UNK] [UNK] br others in the cast [UNK] [UNK] [UNK] [UNK] [UNK] and [UNK] king as [UNK] [UNK] men and if you look [UNK] you may [UNK] [UNK] by future [UNK] star and [UNK] [UNK] [UNK] [UNK] and [UNK] [UNK] in [UNK] big [UNK] [UNK] by the way may be best [UNK] for playing [UNK] in [UNK] [UNK] and the [UNK] [UNK] [UNK] and for his [UNK] to [UNK] [UNK] the daughter of [UNK] [UNK] [UNK] [UNK] [UNK] br [UNK] enjoyable                                                                                                                                                                                                                                                                                                                                                                                                                                                                                                     \n",
            "\n",
            "Original:  b'\"A stage company cast finds themselves terrified when a bizarre killer known as \\'The Fiend\\' targets them for death. A pair of reporters and their clumsy photographer set out to work the story of \\'The Fiend\\' and find themselves targets as well. Just as you think our trio of heroes has the case solved, you\\'re thrown another twist that has you wondering who the killer really is,\" according to the DVD sleeve\\'s synopsis.<br /><br />Taking \"The Hunchback of Notre Dame\" to Hollywood, producer Sam Katzman\\'s lack of studio settings probably helps \"A Face in the Fog\" look interesting, especially toward the end (1930s traffic). The direction could be improved upon; for example, the camera angle on the fight scene is not helpful. The budget appears slight. Under the circumstances, most of the silent/talkie crossover cast perform it amiably.<br /><br />**** A Face in the Fog (2/1/36) Robert F. Hill ~ Lloyd Hughes, June Collyer, Al St. John'\n",
            "Round-trip:  a stage [UNK] cast finds themselves [UNK] when a [UNK] killer known as the [UNK] [UNK] them for death a [UNK] of [UNK] and their [UNK] [UNK] set out to work the story of the [UNK] and find themselves [UNK] as well just as you think our [UNK] of [UNK] has the case [UNK] youre [UNK] another twist that has you [UNK] who the killer really is [UNK] to the dvd [UNK] [UNK] br taking the [UNK] of [UNK] [UNK] to hollywood [UNK] [UNK] [UNK] lack of [UNK] [UNK] probably [UNK] a face in the [UNK] look interesting especially [UNK] the end [UNK] [UNK] the direction could be [UNK] upon for example the camera [UNK] on the fight scene is not [UNK] the budget appears [UNK] under the [UNK] most of the [UNK] [UNK] cast [UNK] it [UNK] br a face in the [UNK] [UNK] robert [UNK] [UNK] [UNK] [UNK] [UNK] [UNK] [UNK] [UNK] john                                                                                                                                                                                                                                                                                                                                                                                                                                                                                                                                                                                                                                                                                                                                                                                                                                       \n",
            "\n"
          ]
        }
      ]
    },
    {
      "cell_type": "markdown",
      "metadata": {
        "id": "bjUqGVBxGw-t"
      },
      "source": [
        "## Create the model"
      ]
    },
    {
      "cell_type": "markdown",
      "metadata": {
        "id": "W7zsmInBOCPO"
      },
      "source": [
        "![A drawing of the information flow in the model](https://github.com/tensorflow/text/blob/master/docs/tutorials/images/bidirectional.png?raw=1)"
      ]
    },
    {
      "cell_type": "markdown",
      "metadata": {
        "id": "bgs6nnSTGw-t"
      },
      "source": [
        "Above is a diagram of the model.\n",
        "\n",
        "1. This model can be build as a `tf.keras.Sequential`.\n",
        "\n",
        "2. The first layer is the `encoder`, which converts the text to a sequence of token indices.\n",
        "\n",
        "3. After the encoder is an embedding layer. An embedding layer stores one vector per word. When called, it converts the sequences of word indices to sequences of vectors. These vectors are trainable. After training (on enough data), words with similar meanings often have similar vectors.\n",
        "\n",
        "  This index-lookup is much more efficient than the equivalent operation of passing a one-hot encoded vector through a `tf.keras.layers.Dense` layer.\n",
        "\n",
        "4. A recurrent neural network (RNN) processes sequence input by iterating through the elements. RNNs pass the outputs from one timestep to their input on the next timestep.\n",
        "\n",
        "  The `tf.keras.layers.Bidirectional` wrapper can also be used with an RNN layer. This propagates the input forward and backwards through the RNN layer and then concatenates the final output.\n",
        "\n",
        "  * The main advantage of a bidirectional RNN is that the signal from the beginning of the input doesn't need to be processed all the way through every timestep to affect the output.  \n",
        "\n",
        "  * The main disadvantage of a bidirectional RNN is that you can't efficiently stream predictions as words are being added to the end.\n",
        "\n",
        "5. After the RNN has converted the sequence to a single vector the two `layers.Dense` do some final processing, and convert from this vector representation to a single logit as the classification output.\n"
      ]
    },
    {
      "cell_type": "markdown",
      "metadata": {
        "id": "V4fodCI7soQi"
      },
      "source": [
        "The code to implement this is below:"
      ]
    },
    {
      "cell_type": "code",
      "metadata": {
        "id": "LwfoBkmRYcP3"
      },
      "source": [
        "model = tf.keras.Sequential([\n",
        "    encoder,\n",
        "    tf.keras.layers.Embedding(\n",
        "        input_dim=len(encoder.get_vocabulary()),\n",
        "        output_dim=64,\n",
        "        # Use masking to handle the variable sequence lengths\n",
        "        mask_zero=True),\n",
        "    tf.keras.layers.Bidirectional(tf.keras.layers.LSTM(64)),\n",
        "    tf.keras.layers.Dense(64, activation='relu'),\n",
        "    tf.keras.layers.Dense(1)\n",
        "])"
      ],
      "execution_count": null,
      "outputs": []
    },
    {
      "cell_type": "markdown",
      "metadata": {
        "id": "QIGmIGkkouUb"
      },
      "source": [
        "Please note that Keras sequential model is used here since all the layers in the model only have single input and produce single output. In case you want to use stateful RNN layer, you might want to build your model with Keras functional API or model subclassing so that you can retrieve and reuse the RNN layer states. Please check [Keras RNN guide](https://www.tensorflow.org/guide/keras/rnn#rnn_state_reuse) for more details."
      ]
    },
    {
      "cell_type": "markdown",
      "metadata": {
        "id": "kF-PsCk1LwjY"
      },
      "source": [
        "The embedding layer [uses masking](https://www.tensorflow.org/guide/keras/masking_and_padding) to handle the varying sequence-lengths. All the layers after the `Embedding` support masking:"
      ]
    },
    {
      "cell_type": "code",
      "metadata": {
        "id": "87a8-CwfKebw",
        "outputId": "b19dc022-94ba-4b11-ea77-0f543831ee6c",
        "colab": {
          "base_uri": "https://localhost:8080/"
        }
      },
      "source": [
        "print([layer.supports_masking for layer in model.layers])"
      ],
      "execution_count": null,
      "outputs": [
        {
          "output_type": "stream",
          "name": "stdout",
          "text": [
            "[False, True, True, True, True]\n"
          ]
        }
      ]
    },
    {
      "cell_type": "markdown",
      "metadata": {
        "id": "ZlS0iaUIWLpI"
      },
      "source": [
        "To confirm that this works as expected, evaluate a sentence twice. First, alone so there's no padding to mask:"
      ]
    },
    {
      "cell_type": "code",
      "metadata": {
        "id": "O41gw3KfWHus",
        "outputId": "7ce6b7a8-da1c-4d78-b150-80ed42f8a7f9",
        "colab": {
          "base_uri": "https://localhost:8080/"
        }
      },
      "source": [
        "# predict on a sample text without padding.\n",
        "\n",
        "sample_text = ('The movie was cool. The animation and the graphics '\n",
        "               'were out of this world. I would recommend this movie.')\n",
        "predictions = model.predict(np.array([sample_text]))\n",
        "print(predictions[0])"
      ],
      "execution_count": null,
      "outputs": [
        {
          "output_type": "stream",
          "name": "stdout",
          "text": [
            "[-0.0103879]\n"
          ]
        }
      ]
    },
    {
      "cell_type": "markdown",
      "metadata": {
        "id": "K0VQmGnEWcuz"
      },
      "source": [
        "Now, evaluate it again in a batch with a longer sentence. The result should be identical:"
      ]
    },
    {
      "cell_type": "code",
      "metadata": {
        "id": "UIgpuTeFNDzq",
        "outputId": "38295b39-4f27-494f-f440-a36ae60de83c",
        "colab": {
          "base_uri": "https://localhost:8080/"
        }
      },
      "source": [
        "# predict on a sample text with padding\n",
        "\n",
        "padding = \"the \" * 2000\n",
        "predictions = model.predict(np.array([sample_text, padding]))\n",
        "print(predictions[0])"
      ],
      "execution_count": null,
      "outputs": [
        {
          "output_type": "stream",
          "name": "stdout",
          "text": [
            "[-0.0103879]\n"
          ]
        }
      ]
    },
    {
      "cell_type": "markdown",
      "metadata": {
        "id": "sRI776ZcH3Tf"
      },
      "source": [
        "Compile the Keras model to configure the training process:"
      ]
    },
    {
      "cell_type": "code",
      "metadata": {
        "id": "kj2xei41YZjC"
      },
      "source": [
        "model.compile(loss=tf.keras.losses.BinaryCrossentropy(from_logits=True),\n",
        "              optimizer=tf.keras.optimizers.Adam(1e-4),\n",
        "              metrics=['accuracy'])"
      ],
      "execution_count": null,
      "outputs": []
    },
    {
      "cell_type": "markdown",
      "metadata": {
        "id": "zIwH3nto596k"
      },
      "source": [
        "## Train the model"
      ]
    },
    {
      "cell_type": "code",
      "metadata": {
        "id": "hw86wWS4YgR2",
        "outputId": "439368a3-d9c8-4645-a5b6-a4dbd336e96f",
        "colab": {
          "base_uri": "https://localhost:8080/"
        }
      },
      "source": [
        "history = model.fit(train_dataset, epochs=10,\n",
        "                    validation_data=test_dataset,\n",
        "                    validation_steps=30)"
      ],
      "execution_count": null,
      "outputs": [
        {
          "output_type": "stream",
          "name": "stdout",
          "text": [
            "Epoch 1/10\n",
            "391/391 [==============================] - 43s 88ms/step - loss: 0.6461 - accuracy: 0.5562 - val_loss: 0.4918 - val_accuracy: 0.7297\n",
            "Epoch 2/10\n",
            "391/391 [==============================] - 31s 79ms/step - loss: 0.4501 - accuracy: 0.7809 - val_loss: 0.4175 - val_accuracy: 0.7932\n",
            "Epoch 3/10\n",
            "391/391 [==============================] - 31s 79ms/step - loss: 0.3679 - accuracy: 0.8399 - val_loss: 0.3919 - val_accuracy: 0.8099\n",
            "Epoch 4/10\n",
            "391/391 [==============================] - 31s 80ms/step - loss: 0.3441 - accuracy: 0.8499 - val_loss: 0.3478 - val_accuracy: 0.8427\n",
            "Epoch 5/10\n",
            "391/391 [==============================] - 31s 80ms/step - loss: 0.3223 - accuracy: 0.8610 - val_loss: 0.3340 - val_accuracy: 0.8500\n",
            "Epoch 6/10\n",
            "391/391 [==============================] - 31s 79ms/step - loss: 0.3154 - accuracy: 0.8658 - val_loss: 0.3329 - val_accuracy: 0.8510\n",
            "Epoch 7/10\n",
            "391/391 [==============================] - 31s 80ms/step - loss: 0.3088 - accuracy: 0.8689 - val_loss: 0.3434 - val_accuracy: 0.8589\n",
            "Epoch 8/10\n",
            "391/391 [==============================] - 31s 80ms/step - loss: 0.3050 - accuracy: 0.8712 - val_loss: 0.3239 - val_accuracy: 0.8552\n",
            "Epoch 9/10\n",
            "391/391 [==============================] - 31s 80ms/step - loss: 0.3019 - accuracy: 0.8718 - val_loss: 0.3375 - val_accuracy: 0.8589\n",
            "Epoch 10/10\n",
            "391/391 [==============================] - 31s 79ms/step - loss: 0.3007 - accuracy: 0.8724 - val_loss: 0.3243 - val_accuracy: 0.8568\n"
          ]
        }
      ]
    },
    {
      "cell_type": "code",
      "metadata": {
        "id": "BaNbXi43YgUT",
        "outputId": "494a3c22-59f2-4ceb-bdb5-6cb1d562f0eb",
        "colab": {
          "base_uri": "https://localhost:8080/"
        }
      },
      "source": [
        "test_loss, test_acc = model.evaluate(test_dataset)\n",
        "\n",
        "print('Test Loss:', test_loss)\n",
        "print('Test Accuracy:', test_acc)"
      ],
      "execution_count": null,
      "outputs": [
        {
          "output_type": "stream",
          "name": "stdout",
          "text": [
            "391/391 [==============================] - 18s 47ms/step - loss: 0.3162 - accuracy: 0.8574\n",
            "Test Loss: 0.31624555587768555\n",
            "Test Accuracy: 0.8574399948120117\n"
          ]
        }
      ]
    },
    {
      "cell_type": "code",
      "metadata": {
        "id": "OZmwt_mzaQJk",
        "outputId": "f83b3a63-8ba8-4d4c-e58e-dd192fec0d21",
        "colab": {
          "base_uri": "https://localhost:8080/",
          "height": 520
        }
      },
      "source": [
        "plt.figure(figsize=(16, 8))\n",
        "plt.subplot(1, 2, 1)\n",
        "plot_graphs(history, 'accuracy')\n",
        "plt.ylim(None, 1)\n",
        "plt.subplot(1, 2, 2)\n",
        "plot_graphs(history, 'loss')\n",
        "plt.ylim(0, None)"
      ],
      "execution_count": null,
      "outputs": [
        {
          "output_type": "execute_result",
          "data": {
            "text/plain": [
              "(0.0, 0.6633317053318024)"
            ]
          },
          "metadata": {},
          "execution_count": 20
        },
        {
          "output_type": "display_data",
          "data": {
            "text/plain": [
              "<Figure size 1152x576 with 2 Axes>"
            ],
            "image/png": "[encoded data removed]"
          },
          "metadata": {
            "needs_background": "light"
          }
        }
      ]
    },
    {
      "cell_type": "markdown",
      "metadata": {
        "id": "DwSE_386uhxD"
      },
      "source": [
        "Run a prediction on a new sentence:\n",
        "\n",
        "If the prediction is >= 0.0, it is positive else it is negative."
      ]
    },
    {
      "cell_type": "code",
      "metadata": {
        "id": "ZXgfQSgRW6zU"
      },
      "source": [
        "sample_text = ('The movie was cool. The animation and the graphics '\n",
        "               'were out of this world. I would recommend this movie.')\n",
        "predictions = model.predict(np.array([sample_text]))"
      ],
      "execution_count": null,
      "outputs": []
    },
    {
      "cell_type": "markdown",
      "metadata": {
        "id": "7g1evcaRpTKm"
      },
      "source": [
        "## Stack two or more LSTM layers\n",
        "\n",
        "Keras recurrent layers have two available modes that are controlled by the `return_sequences` constructor argument:\n",
        "\n",
        "* If `False` it returns only the last output for each input sequence (a 2D tensor of shape (batch_size, output_features)). This is the default, used in the previous model.\n",
        "\n",
        "* If `True` the full sequences of successive outputs for each timestep is returned (a 3D tensor of shape `(batch_size, timesteps, output_features)`).\n",
        "\n",
        "Here is what the flow of information looks like with `return_sequences=True`:\n",
        "\n",
        "![layered_bidirectional](https://github.com/tensorflow/text/blob/master/docs/tutorials/images/layered_bidirectional.png?raw=1)"
      ]
    },
    {
      "cell_type": "markdown",
      "metadata": {
        "id": "wbSClCrG1z8l"
      },
      "source": [
        "The interesting thing about using an `RNN` with `return_sequences=True` is that the output still has 3-axes, like the input, so it can be passed to another RNN layer, like this:"
      ]
    },
    {
      "cell_type": "code",
      "metadata": {
        "id": "jo1jjO3vn0jo"
      },
      "source": [
        "model = tf.keras.Sequential([\n",
        "    encoder,\n",
        "    tf.keras.layers.Embedding(len(encoder.get_vocabulary()), 64, mask_zero=True),\n",
        "    tf.keras.layers.Bidirectional(tf.keras.layers.LSTM(64,  return_sequences=True)),\n",
        "    tf.keras.layers.Bidirectional(tf.keras.layers.LSTM(32)),\n",
        "    tf.keras.layers.Dense(64, activation='relu'),\n",
        "    tf.keras.layers.Dropout(0.5),\n",
        "    tf.keras.layers.Dense(1)\n",
        "])"
      ],
      "execution_count": null,
      "outputs": []
    },
    {
      "cell_type": "code",
      "metadata": {
        "id": "hEPV5jVGp-is"
      },
      "source": [
        "model.compile(loss=tf.keras.losses.BinaryCrossentropy(from_logits=True),\n",
        "              optimizer=tf.keras.optimizers.Adam(1e-4),\n",
        "              metrics=['accuracy'])"
      ],
      "execution_count": null,
      "outputs": []
    },
    {
      "cell_type": "code",
      "metadata": {
        "id": "LeSE-YjdqAeN",
        "outputId": "97dc3ac2-ec05-4b59-e685-f052d4029bc4",
        "colab": {
          "base_uri": "https://localhost:8080/"
        }
      },
      "source": [
        "history = model.fit(train_dataset, epochs=10,\n",
        "                    validation_data=test_dataset,\n",
        "                    validation_steps=30)"
      ],
      "execution_count": null,
      "outputs": [
        {
          "output_type": "stream",
          "name": "stdout",
          "text": [
            "Epoch 1/10\n",
            "391/391 [==============================] - 69s 143ms/step - loss: 0.6088 - accuracy: 0.6039 - val_loss: 0.4081 - val_accuracy: 0.8094\n",
            "Epoch 2/10\n",
            "391/391 [==============================] - 52s 133ms/step - loss: 0.3719 - accuracy: 0.8370 - val_loss: 0.3432 - val_accuracy: 0.8401\n",
            "Epoch 3/10\n",
            "391/391 [==============================] - 52s 133ms/step - loss: 0.3311 - accuracy: 0.8597 - val_loss: 0.3375 - val_accuracy: 0.8578\n",
            "Epoch 4/10\n",
            "391/391 [==============================] - 53s 134ms/step - loss: 0.3196 - accuracy: 0.8617 - val_loss: 0.3231 - val_accuracy: 0.8542\n",
            "Epoch 5/10\n",
            "391/391 [==============================] - 53s 135ms/step - loss: 0.3113 - accuracy: 0.8676 - val_loss: 0.3210 - val_accuracy: 0.8594\n",
            "Epoch 6/10\n",
            "391/391 [==============================] - 52s 133ms/step - loss: 0.3073 - accuracy: 0.8669 - val_loss: 0.3494 - val_accuracy: 0.8531\n",
            "Epoch 7/10\n",
            "391/391 [==============================] - 52s 132ms/step - loss: 0.3032 - accuracy: 0.8706 - val_loss: 0.3231 - val_accuracy: 0.8568\n",
            "Epoch 8/10\n",
            "391/391 [==============================] - 51s 131ms/step - loss: 0.3015 - accuracy: 0.8708 - val_loss: 0.3209 - val_accuracy: 0.8583\n",
            "Epoch 9/10\n",
            "391/391 [==============================] - 52s 132ms/step - loss: 0.3000 - accuracy: 0.8702 - val_loss: 0.3206 - val_accuracy: 0.8469\n",
            "Epoch 10/10\n",
            "391/391 [==============================] - 51s 129ms/step - loss: 0.2936 - accuracy: 0.8746 - val_loss: 0.3181 - val_accuracy: 0.8557\n"
          ]
        }
      ]
    },
    {
      "cell_type": "code",
      "metadata": {
        "id": "_LdwilM1qPM3",
        "outputId": "22183798-ac33-40c0-df4a-360e06e7e054",
        "colab": {
          "base_uri": "https://localhost:8080/"
        }
      },
      "source": [
        "test_loss, test_acc = model.evaluate(test_dataset)\n",
        "\n",
        "print('Test Loss:', test_loss)\n",
        "print('Test Accuracy:', test_acc)"
      ],
      "execution_count": null,
      "outputs": [
        {
          "output_type": "stream",
          "name": "stdout",
          "text": [
            "391/391 [==============================] - 26s 67ms/step - loss: 0.3154 - accuracy: 0.8591\n",
            "Test Loss: 0.31544455885887146\n",
            "Test Accuracy: 0.8591200113296509\n"
          ]
        }
      ]
    },
    {
      "cell_type": "code",
      "metadata": {
        "id": "ykUKnAoqbycW",
        "outputId": "4bc943b7-6261-4310-b559-6e61068bf88a",
        "colab": {
          "base_uri": "https://localhost:8080/"
        }
      },
      "source": [
        "# predict on a sample text without padding.\n",
        "\n",
        "sample_text = ('The movie was not good. The animation and the graphics '\n",
        "               'were terrible. I would not recommend this movie.')\n",
        "predictions = model.predict(np.array([sample_text]))\n",
        "print(predictions)"
      ],
      "execution_count": null,
      "outputs": [
        {
          "output_type": "stream",
          "name": "stdout",
          "text": [
            "[[-1.8514037]]\n"
          ]
        }
      ]
    },
    {
      "cell_type": "code",
      "metadata": {
        "id": "_YYub0EDtwCu",
        "outputId": "65df864d-23c7-4da6-d9a9-c77f8b3a65d2",
        "colab": {
          "base_uri": "https://localhost:8080/",
          "height": 388
        }
      },
      "source": [
        "plt.figure(figsize=(16, 6))\n",
        "plt.subplot(1, 2, 1)\n",
        "plot_graphs(history, 'accuracy')\n",
        "plt.subplot(1, 2, 2)\n",
        "plot_graphs(history, 'loss')"
      ],
      "execution_count": null,
      "outputs": [
        {
          "output_type": "display_data",
          "data": {
            "text/plain": [
              "<Figure size 1152x432 with 2 Axes>"
            ],
            "image/png": "[encoded data removed]"
          },
          "metadata": {
            "needs_background": "light"
          }
        }
      ]
    }
  ]
}